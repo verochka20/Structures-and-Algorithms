{
 "cells": [
  {
   "cell_type": "markdown",
   "id": "fifteen-sailing",
   "metadata": {},
   "source": [
    "# Лабораторная работа №1\n",
    "## Выполнил студент группы БВТ2004 Петросян Вера Рафаэловна"
   ]
  },
  {
   "cell_type": "markdown",
   "id": "particular-syndicate",
   "metadata": {},
   "source": [
    "### Оглавление\n",
    "1. [Задание 1](#Задание-№1)\n",
    "2. [Задание 2](#Задание-№2)\n",
    "3. [Задание 3](#Задание-№3)\n",
    "4. [Вывод](#Вывод)"
   ]
  },
  {
   "cell_type": "markdown",
   "id": "arctic-stocks",
   "metadata": {},
   "source": [
    "### Задание №1\n",
    "<i> Вызвать функцию print() и передать туда строку Hello, World! </i>"
   ]
  },
  {
   "cell_type": "code",
   "execution_count": null,
   "id": "caring-truck",
   "metadata": {
    "scrolled": true
   },
   "outputs": [],
   "source": [
    "print(\"Hello, World!\")"
   ]
  },
  {
   "cell_type": "markdown",
   "id": "maritime-conversation",
   "metadata": {},
   "source": [
    "### Задание №2\n",
    "Написать генератор случайных матриц(многомерных), который принимает\n",
    "опциональные параметры <b>m</b>, <b>n</b>, <b>min_limit</b>, <b>max_limit</b>, где <b>m</b> и <b>n</b> указывают размер\n",
    "матрицы, а <b>min_lim</b> и <b>max_lim</b> - минимальное и максимальное значение для\n",
    "генерируемого числа."
   ]
  },
  {
   "cell_type": "code",
   "execution_count": 1,
   "id": "built-contact",
   "metadata": {},
   "outputs": [],
   "source": [
    "import random\n",
    "import time"
   ]
  },
  {
   "cell_type": "code",
   "execution_count": 3,
   "id": "alert-charm",
   "metadata": {},
   "outputs": [
    {
     "name": "stdout",
     "output_type": "stream",
     "text": [
      "5\n",
      "6\n",
      "0\n",
      "100\n",
      "[[70, 92, 62, 4, 8], [36, 35, 26, 45, 41], [5, 25, 84, 90, 54], [43, 73, 62, 85, 32], [68, 1, 31, 100, 62], [86, 92, 4, 62, 23]]\n"
     ]
    }
   ],
   "source": [
    "import random\n",
    "import time\n",
    "from random import randint\n",
    "user_m = int(input())\n",
    "user_n = int(input())\n",
    "user_min_limit = int(input())\n",
    "user_max_limit = int(input())\n",
    "user_m, user_n, user_min_limit, user_max_limit\n",
    "a = [[randint(user_min_limit, user_max_limit) for j in range(user_m)] for i in range(user_n)]\n",
    "print(a)"
   ]
  },
  {
   "cell_type": "markdown",
   "id": "catholic-roots",
   "metadata": {},
   "source": [
    "### Задание №3\n",
    "Реализовать методы сортировки строк числовой матрицы в соответствии с\n",
    "заданием. Оценить время работы каждого алгоритма сортировки и сравнить его со\n",
    "временем стандартной функции сортировки. Испытания проводить на сгенерированных\n",
    "матрицах."
   ]
  },
  {
   "cell_type": "code",
   "execution_count": 3,
   "id": "opposed-creature",
   "metadata": {},
   "outputs": [],
   "source": [
    "import copy"
   ]
  },
  {
   "cell_type": "code",
   "execution_count": 42,
   "id": "cleared-anniversary",
   "metadata": {},
   "outputs": [
    {
     "name": "stdout",
     "output_type": "stream",
     "text": [
      "--- 1 ms ---\n",
      "[[0, 1, 38, 59, 85, 99], [0, 10, 18, 50, 68, 98], [3, 11, 47, 52, 77, 84], [11, 45, 55, 77, 88, 89], [14, 23, 25, 40, 46, 88], [23, 26, 37, 73, 74, 87]]\n"
     ]
    }
   ],
   "source": [
    "# Сортировка выбором.\n",
    "# Берётся срез массива, в котором минимальный элемент переносят в самый левый угол,\n",
    "# после чего срез уменьшается и цикл повторяется.\n",
    "#TODO\n",
    "start_time = time.time()\n",
    "from random import randint\n",
    "import time\n",
    "def selection_sort(values: list):\n",
    "    for i in range(len(values) - 1):\n",
    "            max_val = values[i]\n",
    "            max_index = i\n",
    "            for j in range(i, len(values)):\n",
    "                if max_val > values[j]:\n",
    "                    max_val = values[j]\n",
    "                    max_index = j\n",
    "            values[i], values[max_index] = values[max_index], values[i]\n",
    "    \n",
    "matrix = [[randint(0, 100) for j in range(6)] for i in range(6)]\n",
    "for row in matrix:\n",
    "    selection_sort(row)\n",
    "            \n",
    "selection_sort(matrix)\n",
    "print(\"--- {0} ms ---\".format(round((time.time() - start_time)*1000)))\n",
    "print(matrix)\n"
   ]
  },
  {
   "cell_type": "code",
   "execution_count": 41,
   "id": "roman-silly",
   "metadata": {
    "scrolled": true
   },
   "outputs": [
    {
     "name": "stdout",
     "output_type": "stream",
     "text": [
      "[[2, 6, 40, 41, 73, 83], [13, 70, 71, 80, 84, 95], [18, 23, 25, 36, 48, 68], [21, 41, 45, 62, 76, 76], [22, 39, 39, 41, 63, 66], [29, 57, 72, 79, 96, 100]]\n",
      "--- 1 ms ---\n"
     ]
    }
   ],
   "source": [
    "# Сортировка вставкой.\n",
    "start_time = time.time()\n",
    "#TODO\n",
    "from random import randint\n",
    "import time\n",
    "def insertion_sort(values: list):\n",
    "        for i in range(len(values)):\n",
    "            buffer = values[i]\n",
    "            j = i - 1\n",
    "            while buffer < values[j] and j >= 0:\n",
    "                values[j + 1] = values[j]\n",
    "                j -= 1\n",
    "            values[j + 1] = buffer\n",
    "\n",
    "matrix = [[randint(0, 100) for j in range(6)] for i in range(6)]\n",
    "\n",
    "for row in matrix:\n",
    "    insertion_sort(row)\n",
    "            \n",
    "insertion_sort(matrix)\n",
    "\n",
    "print(matrix)\n",
    "print(\"--- {0} ms ---\".format(round((time.time() - start_time)*1000)))"
   ]
  },
  {
   "cell_type": "code",
   "execution_count": 40,
   "id": "vital-implementation",
   "metadata": {},
   "outputs": [
    {
     "name": "stdout",
     "output_type": "stream",
     "text": [
      "[[2, 9, 32, 63, 73, 76], [2, 19, 28, 55, 61, 92], [11, 28, 30, 58, 75, 79], [17, 36, 42, 46, 47, 86], [25, 30, 43, 50, 68, 81], [33, 59, 64, 66, 69, 84]]\n",
      "--- 2 ms ---\n"
     ]
    }
   ],
   "source": [
    "# Сортировка обменом. || Сортировка пузырьком.\n",
    "start_time = time.time()\n",
    "#TODO\n",
    "from random import randint\n",
    "import time\n",
    "def bubble_sort(values: list):\n",
    "    for i in range(len(values) - 1):\n",
    "        for j in range(len(values) - 1 - i):\n",
    "            if values[j] > values[j + 1]:\n",
    "                values[j], values[j + 1] = values[j + 1], values[j]\n",
    "\n",
    "matrix = [[randint(0, 100) for j in range(6)] for i in range(6)]\n",
    "\n",
    "for row in matrix:\n",
    "    bubble_sort(row)\n",
    "            \n",
    "bubble_sort(matrix)\n",
    "\n",
    "print(matrix)\n",
    "print(\"--- {0} ms ---\".format(round((time.time() - start_time)*1000)))"
   ]
  },
  {
   "cell_type": "code",
   "execution_count": 39,
   "id": "veterinary-glory",
   "metadata": {},
   "outputs": [
    {
     "name": "stdout",
     "output_type": "stream",
     "text": [
      "[[15, 25, 37, 51, 59, 68], [17, 21, 49, 75, 75, 100], [22, 37, 43, 43, 77, 78], [30, 37, 49, 86, 86, 97], [35, 40, 56, 61, 75, 77], [39, 41, 42, 76, 86, 97]]\n",
      "--- 1 ms ---\n"
     ]
    }
   ],
   "source": [
    "# Сортировка Шелла.\n",
    "start_time = time.time()\n",
    "#TODO\n",
    "import time\n",
    "from random import randint\n",
    "def shell_sort(values: list):\n",
    "        step = len(values) >> 1\n",
    "        while step > 0:\n",
    "            for i in range(step, len(values)):\n",
    "                buffer = values[i]\n",
    "                j = i - step\n",
    "                while buffer < values[j] and j >= 0:\n",
    "                    values[j + step] = values[j]\n",
    "                    j -= step\n",
    "                values[j + step] = buffer\n",
    "            step = step >> 1 \n",
    "\n",
    "\n",
    "matrix = [[randint(0, 100) for j in range(6)] for i in range(6)]\n",
    "\n",
    "for row in matrix:\n",
    "    shell_sort(row)\n",
    "            \n",
    "shell_sort(matrix)\n",
    "\n",
    "print(matrix)\n",
    "\n",
    "print(\"--- {0} ms ---\".format(round((time.time() - start_time)*1000)))"
   ]
  },
  {
   "cell_type": "code",
   "execution_count": 38,
   "id": "correct-chaos",
   "metadata": {},
   "outputs": [
    {
     "name": "stdout",
     "output_type": "stream",
     "text": [
      "[[5, 16, 17, 23, 42, 89], [9, 32, 43, 68, 79, 89], [19, 26, 38, 50, 56, 97], [24, 33, 40, 53, 70, 83], [25, 27, 39, 59, 79, 81], [47, 47, 73, 76, 77, 89]]\n",
      "--- 1 ms ---\n"
     ]
    }
   ],
   "source": [
    "# Быстрая сортировка.\n",
    "start_time = time.time()\n",
    "#TODO\n",
    "from random import randint\n",
    "import random\n",
    "import time\n",
    "def partition(nums, low, high):\n",
    "    # Выбираем средний элемент в качестве опорного\n",
    "    # Также возможен выбор первого, последнего\n",
    "    # или произвольного элементов в качестве опорного\n",
    "    pivot = nums[(low + high) // 2]\n",
    "    i = low - 1\n",
    "    j = high + 1\n",
    "    while True:\n",
    "        i += 1\n",
    "        while nums[i] < pivot:\n",
    "            i += 1\n",
    "        j -= 1\n",
    "        while nums[j] > pivot:\n",
    "            j -= 1\n",
    "        if i >= j:\n",
    "            return j\n",
    "        # Если элемент с индексом i (слева от опорного) больше, чем\n",
    "        # элемент с индексом j (справа от опорного), меняем их местами\n",
    "        nums[i], nums[j] = nums[j], nums[i]\n",
    "\n",
    "def quick_sort(nums):\n",
    "    # Создадим вспомогательную функцию, которая вызывается рекурсивно\n",
    "    def _quick_sort(items, low, high):\n",
    "        if low < high:\n",
    "            # This is the index after the pivot, where our lists are split\n",
    "            split_index = partition(items, low, high)\n",
    "            _quick_sort(items, low, split_index)\n",
    "            _quick_sort(items, split_index + 1, high)\n",
    "    _quick_sort(nums, 0, len(nums) - 1)\n",
    "\n",
    "\n",
    "matrix = [[randint(0, 100) for j in range(6)] for i in range(6)]\n",
    "\n",
    "for row in matrix:\n",
    "    quick_sort(row)\n",
    "            \n",
    "quick_sort(matrix)\n",
    "\n",
    "print(matrix)\n",
    "print(\"--- {0} ms ---\".format(round((time.time() - start_time)*1000)))\n",
    "    "
   ]
  },
  {
   "cell_type": "code",
   "execution_count": 36,
   "id": "french-czech",
   "metadata": {},
   "outputs": [
    {
     "name": "stdout",
     "output_type": "stream",
     "text": [
      "[[0, 23, 27, 32, 40, 51], [1, 31, 32, 64, 69, 88], [4, 5, 22, 31, 32, 43], [10, 34, 37, 40, 44, 73], [14, 17, 44, 52, 69, 80], [38, 40, 45, 53, 79, 85]]\n",
      "--- 2 ms ---\n"
     ]
    }
   ],
   "source": [
    "# Турнирная сортировка.\n",
    "start_time = time.time()\n",
    "#TODO\n",
    "from random import randint\n",
    "import random\n",
    "import time\n",
    "def heapsort(alist):\n",
    "    build_max_heap(alist)\n",
    "    for i in range(len(alist) - 1, 0, -1):\n",
    "        alist[0], alist[i] = alist[i], alist[0]\n",
    "        max_heapify(alist, index=0, size=i)\n",
    " \n",
    "def parent(i):\n",
    "    return (i - 1)//2\n",
    " \n",
    "def left(i):\n",
    "    return 2*i + 1\n",
    " \n",
    "def right(i):\n",
    "    return 2*i + 2\n",
    " \n",
    "def build_max_heap(alist):\n",
    "    length = len(alist)\n",
    "    start = parent(length - 1)\n",
    "    while start >= 0:\n",
    "        max_heapify(alist, index=start, size=length)\n",
    "        start = start - 1\n",
    " \n",
    "def max_heapify(alist, index, size):\n",
    "    l = left(index)\n",
    "    r = right(index)\n",
    "    if (l < size and alist[l] > alist[index]):\n",
    "        largest = l\n",
    "    else:\n",
    "        largest = index\n",
    "    if (r < size and alist[r] > alist[largest]):\n",
    "        largest = r\n",
    "    if (largest != index):\n",
    "        alist[largest], alist[index] = alist[index], alist[largest]\n",
    "        max_heapify(alist, largest, size)\n",
    " \n",
    " \n",
    "\n",
    "matrix = [[randint(0, 100) for j in range(6)] for i in range(6)]\n",
    "\n",
    "for row in matrix:\n",
    "    heapsort(row)\n",
    "            \n",
    "heapsort(matrix)\n",
    "\n",
    "print(matrix)\n",
    "\n",
    "print(\"--- {0} ms ---\".format(round((time.time() - start_time)*1000)))"
   ]
  },
  {
   "cell_type": "markdown",
   "id": "rental-jerusalem",
   "metadata": {},
   "source": [
    "### Вывод\n",
    "Сортировка слиянием почти в два раза медленнее, чем быстрая сортировка. Сортировка выборкой выполняет больше сравнений, чем сортировка вставками, но выполняется немного быстрее. Турнирная значительно быстрее остальных, что особенно заметно при обработке больших списков. Быстрая сортировка при правильном использовании не требует много памяти и выполняется очень быстро."
   ]
  },
  {
   "cell_type": "code",
   "execution_count": null,
   "id": "19e7f6a9",
   "metadata": {},
   "outputs": [],
   "source": []
  },
  {
   "cell_type": "code",
   "execution_count": null,
   "id": "0ab61b90",
   "metadata": {},
   "outputs": [],
   "source": []
  },
  {
   "cell_type": "code",
   "execution_count": null,
   "id": "f38caf8c",
   "metadata": {},
   "outputs": [],
   "source": []
  }
 ],
 "metadata": {
  "kernelspec": {
   "display_name": "Python 3 (ipykernel)",
   "language": "python",
   "name": "python3"
  },
  "language_info": {
   "codemirror_mode": {
    "name": "ipython",
    "version": 3
   },
   "file_extension": ".py",
   "mimetype": "text/x-python",
   "name": "python",
   "nbconvert_exporter": "python",
   "pygments_lexer": "ipython3",
   "version": "3.9.7"
  }
 },
 "nbformat": 4,
 "nbformat_minor": 5
}
