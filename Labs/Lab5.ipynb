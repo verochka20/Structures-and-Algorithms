{
 "cells": [
  {
   "cell_type": "markdown",
   "metadata": {
    "id": "WPvB9TcMmKA6"
   },
   "source": [
    "# Лабораторная работа №5\n",
    "# Рекурсия. Фракталы."
   ]
  },
  {
   "cell_type": "markdown",
   "metadata": {
    "id": "96Gi_LEvmSVH"
   },
   "source": [
    "## Выполнила студентка группы Петросян Вера Рафаэловна БВТ2004\n",
    "***"
   ]
  },
  {
   "cell_type": "markdown",
   "metadata": {
    "id": "4clYOyb0mbEv"
   },
   "source": [
    "### Задание:\n",
    "Реализовать генерацию заданного типа фрактала с применением рекурсивных функций.\n",
    "\n",
    "\n",
    "Добавить возможность задания глубины фрактала. \n",
    "\n",
    "\n",
    "Оценить глубину рекурсии. \n",
    "\n",
    "\n",
    "Построить таблицу зависимости времени построения от глубины фрактала."
   ]
  },
  {
   "cell_type": "markdown",
   "metadata": {
    "id": "wDXHbUmMmhRL"
   },
   "source": [
    "### Список фракталов:\n",
    "\n",
    "Кривая Коха\n",
    "| Кривая Гильберта\n",
    "| Кривая Серпинского\n",
    "| Салфетка Серпинского\n",
    "| Ковер Серпинского\n",
    "| Дерево Пифагора "
   ]
  },
  {
   "cell_type": "markdown",
   "metadata": {
    "id": "Wggfn8l7nG72"
   },
   "source": [
    "### Выполнение:"
   ]
  },
  {
   "cell_type": "code",
   "execution_count": 2,
   "metadata": {},
   "outputs": [
    {
     "name": "stdout",
     "output_type": "stream",
     "text": [
      "3\n",
      "Глубина      Время\n",
      "1            110.83674 ms\n",
      "2            495.41354 ms\n",
      "3            2022.57252 ms\n",
      "4            8113.47294 ms\n",
      "5            32763.96251 ms\n"
     ]
    }
   ],
   "source": [
    "#Кривая Коха\n",
    "import time\n",
    "import turtle\n",
    "\n",
    "def koch_curve(size, n):\n",
    "    if n == 0:\n",
    "        turtle.forward(size)\n",
    "    else:\n",
    "        koch_curve(size / 3, n - 1)\n",
    "        turtle.left(60)\n",
    "        koch_curve(size / 3, n - 1)\n",
    "        turtle.right(120)\n",
    "        koch_curve(size / 3, n - 1)\n",
    "        turtle.left(60)\n",
    "        koch_curve(size / 3, n - 1)\n",
    "\n",
    "turtle.speed(30000)\n",
    "size = 500\n",
    "n = int(input())\n",
    "turtle.penup()\n",
    "turtle.backward(270)\n",
    "turtle.pendown()\n",
    "\n",
    "koch_curve(size, n)\n",
    "turtle.penup()\n",
    "n=1\n",
    "print(\"Глубина      Время\")\n",
    "for i in range(5):\n",
    "    start_time = time.time()\n",
    "    koch_curve(size, n)\n",
    "    binary_time = (time.time() - start_time)*1000\n",
    "    print(n,\"          \",\"{:.5f} ms\".format(binary_time))\n",
    "    n+=1"
   ]
  },
  {
   "cell_type": "code",
   "execution_count": 3,
   "metadata": {},
   "outputs": [
    {
     "name": "stdout",
     "output_type": "stream",
     "text": [
      "3\n",
      "Глубина      Время\n",
      "1            171.33689 ms\n",
      "2            805.39298 ms\n",
      "3            3351.24207 ms\n",
      "4            13573.02094 ms\n",
      "5            54623.41285 ms\n"
     ]
    }
   ],
   "source": [
    "#Кривая Гильберта\n",
    "import time\n",
    "import turtle\n",
    "\n",
    "def curve_hilbert(lvl, an, s):\n",
    "    if (lvl == 0):\n",
    "        turtle.forward(s)\n",
    "        return\n",
    "\n",
    "    turtle.right(an)\n",
    "    curve_hilbert(lvl - 1, -an, s)\n",
    "\n",
    "    turtle.forward(s)\n",
    "    turtle.left(an)\n",
    "    curve_hilbert(lvl - 1, an, s)\n",
    "\n",
    "    turtle.forward(s)\n",
    "    curve_hilbert(lvl - 1, an, s)\n",
    "\n",
    "    turtle.left(an)\n",
    "    turtle.forward(s)\n",
    "    curve_hilbert(lvl - 1, -an, s)\n",
    "    turtle.right(an)\n",
    "\n",
    "turtle.speed(30000)\n",
    "size = 100\n",
    "n = int(input())\n",
    "turtle.penup()\n",
    "turtle.setposition(-330,300)\n",
    "turtle.pendown()\n",
    "\n",
    "curve_hilbert(n, 90, size / (2**(n-1)))\n",
    "turtle.penup()\n",
    "n=1\n",
    "print(\"Глубина      Время\")\n",
    "for i in range(5):\n",
    "    start_time = time.time()\n",
    "    curve_hilbert(n, 90, size / (2**(n-1)))\n",
    "    binary_time = (time.time() - start_time)*1000\n",
    "    print(n,\"          \",\"{:.5f} ms\".format(binary_time))\n",
    "    n+=1"
   ]
  },
  {
   "cell_type": "code",
   "execution_count": 4,
   "metadata": {},
   "outputs": [
    {
     "name": "stdout",
     "output_type": "stream",
     "text": [
      "2\n",
      "Глубина      Время\n",
      "1            88.58371 ms\n",
      "2            109.17091 ms\n",
      "3            193.68720 ms\n",
      "4            543.37740 ms\n",
      "5            1880.47409 ms\n"
     ]
    }
   ],
   "source": [
    "#Кривая Серпинского\n",
    "import turtle\n",
    "import time\n",
    "\n",
    "def create_l_system(iters, axiom, rules):\n",
    "    start_string = axiom\n",
    "    if iters == 0:\n",
    "        return axiom\n",
    "    end_string = \"\"\n",
    "    for _ in range(iters):\n",
    "        end_string = \"\".join(rules[i] if i in rules else i for i in start_string)\n",
    "        start_string = end_string\n",
    "\n",
    "    return end_string\n",
    "\n",
    "\n",
    "def draw_l_system(t, instructions, angle, distance):\n",
    "    for cmd in instructions:\n",
    "        if cmd == 'F':\n",
    "            t.forward(distance)\n",
    "        elif cmd == '+':\n",
    "            t.right(angle)\n",
    "        elif cmd == '-':\n",
    "            t.left(angle)\n",
    "\n",
    "\n",
    "def main(iterations, axiom, rules, angle, length=8, size=2, y_offset=0,\n",
    "        x_offset=0, offset_angle=0, width=450, height=450):\n",
    "\n",
    "    inst = create_l_system(iterations, axiom, rules)\n",
    "    t = turtle.Turtle()\n",
    "    turtle.tracer(1, 0)  \n",
    "    wn = turtle.Screen()\n",
    "    wn.setup(width, height)\n",
    "    t.up()\n",
    "    t.backward(-x_offset)\n",
    "    t.left(90)\n",
    "    t.backward(-y_offset)\n",
    "    t.left(offset_angle)\n",
    "    t.down()\n",
    "    t.speed(30000)\n",
    "    t.pensize(size)\n",
    "    draw_l_system(t, inst, angle, length)\n",
    "    t.hideturtle()\n",
    "\n",
    "t = turtle.Turtle()\n",
    "axiom = \"F+XF+F+XF\"\n",
    "rules = {\"X\":\"XF-F+F-XF+F+XF-F+F-X\"}\n",
    "angle = 90\n",
    "iterations = int(input())\n",
    "main(iterations, axiom, rules, angle, length=8, size=2, y_offset=20, x_offset=-100, offset_angle=0, width=600, height=600)\n",
    "t.penup()\n",
    "iterations=1\n",
    "print(\"Глубина      Время\")\n",
    "for i in range(5):\n",
    "    start_time = time.time()\n",
    "    main(iterations, axiom, rules, angle, length=8, size=2, y_offset=-1000, x_offset=-10000, offset_angle=0, width=600, height=600)\n",
    "    binary_time = (time.time() - start_time)*1000\n",
    "    print(iterations,\"          \",\"{:.5f} ms\".format(binary_time))\n",
    "    iterations+=1"
   ]
  },
  {
   "cell_type": "code",
   "execution_count": 5,
   "metadata": {},
   "outputs": [
    {
     "name": "stdout",
     "output_type": "stream",
     "text": [
      "2\n",
      "Глубина      Время\n",
      "1            17.00068 ms\n",
      "2            55.00412 ms\n",
      "3            180.90844 ms\n",
      "4            561.11741 ms\n",
      "5            1641.73317 ms\n"
     ]
    }
   ],
   "source": [
    "#Салфетка Серпинского \n",
    "import time\n",
    "import turtle\n",
    "\n",
    "def napkin_serpinskie(lvl, s):\n",
    "    if lvl == 0:\n",
    "        for _ in range(3):\n",
    "            turtle.forward(s)\n",
    "            turtle.left(120)\n",
    "        return\n",
    "\n",
    "    napkin_serpinskie(lvl - 1, s)\n",
    "    turtle.forward(s * 2**(lvl-1))\n",
    "    \n",
    "    napkin_serpinskie(lvl - 1, s)\n",
    "    turtle.left(120)\n",
    "    turtle.forward(s * 2**(lvl-1))\n",
    "    turtle.right(120)\n",
    "    \n",
    "    napkin_serpinskie(lvl - 1, s)\n",
    "    turtle.right(120)\n",
    "    turtle.forward(s * 2**(lvl-1))\n",
    "    turtle.left(120)\n",
    "\n",
    "turtle.speed(30000)\n",
    "size = 600\n",
    "n = int(input())\n",
    "turtle.penup()\n",
    "turtle.setposition(-330,-300)\n",
    "turtle.pendown()\n",
    "\n",
    "napkin_serpinskie(n, size / 2**n)\n",
    "turtle.penup()\n",
    "n=1\n",
    "print(\"Глубина      Время\")\n",
    "for i in range(5):\n",
    "    start_time = time.time()\n",
    "    napkin_serpinskie(n, size / 2**n)\n",
    "    binary_time = (time.time() - start_time)*1000\n",
    "    print(n,\"          \",\"{:.5f} ms\".format(binary_time))\n",
    "    n+=1"
   ]
  },
  {
   "cell_type": "code",
   "execution_count": 6,
   "metadata": {},
   "outputs": [
    {
     "name": "stdout",
     "output_type": "stream",
     "text": [
      "2\n",
      "Глубина      Время\n",
      "1            101.18675 ms\n",
      "2            876.48201 ms\n",
      "3            5842.49759 ms\n",
      "4            44221.12036 ms\n",
      "5            307933.20155 ms\n"
     ]
    }
   ],
   "source": [
    "#Ковер Серпинского \n",
    "import time\n",
    "import turtle\n",
    "\n",
    "def carpet_serpinskie(lvl, s, q):\n",
    "    if lvl == 0:\n",
    "        # Для закрашивания квадратов\n",
    "        if q: turtle.begin_fill()\n",
    "        \n",
    "        for _ in range(4):\n",
    "            turtle.forward(s)\n",
    "            turtle.left(90)\n",
    "    \n",
    "        if q: turtle.end_fill()\n",
    "        \n",
    "        return\n",
    "    else:\n",
    "\n",
    "        for i in range(4):\n",
    "            carpet_serpinskie(lvl - 1, s // 3, q)\n",
    "            turtle.forward(s / 3)\n",
    "\n",
    "            carpet_serpinskie(lvl - 1, s // 3, q)\n",
    "            turtle.forward(s / 3)\n",
    "\n",
    "            turtle.forward(s / 3)\n",
    "            turtle.left(90)\n",
    "turtle.speed(30000)\n",
    "size = 600\n",
    "n = int(input())\n",
    "turtle.penup()\n",
    "turtle.setposition(-330,-300)\n",
    "turtle.pendown()\n",
    "\n",
    "carpet_serpinskie(n, size, 1)\n",
    "turtle.penup()\n",
    "n=1\n",
    "print(\"Глубина      Время\")\n",
    "for i in range(5):\n",
    "    start_time = time.time()\n",
    "    carpet_serpinskie(n, size, 0)\n",
    "    binary_time = (time.time() - start_time)*1000\n",
    "    print(n,\"          \",\"{:.5f} ms\".format(binary_time))\n",
    "    n+=1"
   ]
  },
  {
   "cell_type": "code",
   "execution_count": 7,
   "metadata": {},
   "outputs": [
    {
     "name": "stdout",
     "output_type": "stream",
     "text": [
      "2\n",
      "Глубина      Время\n",
      "1            118.02268 ms\n",
      "2            327.69561 ms\n",
      "3            762.54129 ms\n",
      "4            1702.74758 ms\n",
      "5            3432.35707 ms\n"
     ]
    }
   ],
   "source": [
    "import time\n",
    "import turtle\n",
    "\n",
    "def tree_pythagoras(turt, l, s):\n",
    "    if (l == 0):\n",
    "        for _ in range(4):\n",
    "            turt.forward(s)\n",
    "            turt.right(90)\n",
    "        return\n",
    "\n",
    "    for _ in range(4):\n",
    "        turt.forward(s)\n",
    "        turt.right(90)\n",
    "\n",
    "    turt.forward(s)\n",
    "    another_turt = turt.clone()\n",
    "    turt.left(45)\n",
    "    tree_pythagoras(turt, l - 1, (s * 2**(1/2)) / 2)\n",
    "\n",
    "    another_turt.right(45)\n",
    "    another_turt.forward((s * 2**(1/2)) / 2)\n",
    "    tree_pythagoras(another_turt, l - 1, (s * 2 ** (1 / 2)) / 2)\n",
    "    \n",
    "turtle.speed(30000)\n",
    "size = 100\n",
    "n = int(input())\n",
    "turtle.penup()\n",
    "turtle.setposition(-60,-300)\n",
    "turtle.pendown()\n",
    "\n",
    "# turtle.tracer(0, 0)\n",
    "turtle.left(90)\n",
    "tree_pythagoras(turtle, n, size)\n",
    "turtle.penup()\n",
    "n=1\n",
    "print(\"Глубина      Время\")\n",
    "for i in range(5):\n",
    "    start_time = time.time()\n",
    "    turtle.left(90)\n",
    "    tree_pythagoras(turtle, n, size)\n",
    "    binary_time = (time.time() - start_time)*1000\n",
    "    print(n,\"          \",\"{:.5f} ms\".format(binary_time))\n",
    "    n+=1"
   ]
  },
  {
   "cell_type": "markdown",
   "metadata": {
    "id": "diOb-K7LnO5a"
   },
   "source": [
    "### Вывод: Теория фракталов позволяет предсказать скорость роста корневых систем растений, трудозатраты на осушение болот, зависимость массы соломы от высоты побегов и многое другое"
   ]
  }
 ],
 "metadata": {
  "colab": {
   "collapsed_sections": [],
   "name": "Lab5.ipynb",
   "provenance": []
  },
  "kernelspec": {
   "display_name": "Python 3 (ipykernel)",
   "language": "python",
   "name": "python3"
  },
  "language_info": {
   "codemirror_mode": {
    "name": "ipython",
    "version": 3
   },
   "file_extension": ".py",
   "mimetype": "text/x-python",
   "name": "python",
   "nbconvert_exporter": "python",
   "pygments_lexer": "ipython3",
   "version": "3.9.7"
  }
 },
 "nbformat": 4,
 "nbformat_minor": 1
}
