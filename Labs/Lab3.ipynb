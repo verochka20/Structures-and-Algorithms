{
 "cells": [
  {
   "cell_type": "markdown",
   "id": "db4b50f0",
   "metadata": {},
   "source": [
    "# Лабораторная работа №3\n",
    "## Выполнил студент БВТ2004 Петросян Вера Рафаэловна"
   ]
  },
  {
   "cell_type": "markdown",
   "id": "annual-symbol",
   "metadata": {},
   "source": [
    "### Оглавление\n",
    "1. [Задание 1](#Задание-№1)\n",
    "2. [Задание 2](#Задание-№2)\n",
    "4. [Вывод](#Вывод)"
   ]
  },
  {
   "cell_type": "markdown",
   "id": "independent-spirit",
   "metadata": {},
   "source": [
    "> Дополнительные модули, использованные при выполнение лабораторной"
   ]
  },
  {
   "cell_type": "code",
   "execution_count": null,
   "id": "4839be2b",
   "metadata": {},
   "outputs": [],
   "source": [
    "# Необходим при замере скорости выполнения кода\n",
    "from datetime import datetime as t\n",
    "# Нужен для создания словаря в алг. Бойера-Мура\n",
    "from collections import defaultdict"
   ]
  },
  {
   "cell_type": "markdown",
   "id": "inclusive-motorcycle",
   "metadata": {},
   "source": [
    "### Задание №1\n",
    "Реализовать методы поиска подстроки в строке. Добавить возможность ввода строки и подстроки с клавиатуры. Предусмотреть возможность существования пробела. Реализовать возможность выбора опции чувствительности или нечувствительности к регистру. Оценить время работы каждого алгоритма поиска и сравнить его со временем работы стандартной функции поиска, используемой в выбранном языке программирования."
   ]
  },
  {
   "cell_type": "markdown",
   "id": "interracial-communication",
   "metadata": {},
   "source": [
    "#### Алгоритм Кнута-Морриса-Пратта"
   ]
  },
  {
   "cell_type": "code",
   "execution_count": 10,
   "id": "presidential-level",
   "metadata": {},
   "outputs": [
    {
     "name": "stdout",
     "output_type": "stream",
     "text": [
      "Введите строку:\n",
      "uyqwertybk\n",
      "Введите подстроку:\n",
      "Qwerty\n",
      "Если Вам нужна чувствительность регистра введите- 1, если нет- 0\n",
      "0\n",
      "2\n",
      "--- 0.203500 ms ---\n"
     ]
    }
   ],
   "source": [
    "import time\n",
    "def prefix_func(text):\n",
    "    j=0\n",
    "    n = len(text)\n",
    "    pi =[0] * n\n",
    "    for i in range(1, n):\n",
    "        j = pi[j-1]\n",
    "        while j > 0 and text[j] != text[i]:\n",
    "            j = pi[j-1]\n",
    "        if text[i] == text[j]:\n",
    "            j += 1\n",
    "        pi[i] = j\n",
    "    return pi\n",
    "            \n",
    "    \n",
    "def kmp_search(text, sub_text, start_index=0):\n",
    "        j = 0\n",
    "        pi = prefix_func(sub_text)\n",
    "        for i in range(start_index, len(text)):\n",
    "            while j > 0 and text[i] != sub_text[j]:\n",
    "                j = pi[j-1]\n",
    "            if text[i] == sub_text[j]:\n",
    "                j += 1\n",
    "            if j >= len(sub_text):\n",
    "                return i - j + 1\n",
    "        return None\n",
    "\n",
    "\n",
    "text = input('Введите строку:\\n')\n",
    "sub_text = input('Введите подстроку:\\n')\n",
    "f=input('Если Вам нужна чувствительность регистра введите- 1, если нет- 0\\n')\n",
    "if(f==\"0\"):\n",
    "    text=text.lower()\n",
    "    sub_text=sub_text.lower()\n",
    "start_time = time.perf_counter()\n",
    "print(kmp_search(text, sub_text, 0))\n",
    "print(\"--- {:.6f} ms ---\".format((time.perf_counter() - start_time) * 1000))"
   ]
  },
  {
   "cell_type": "markdown",
   "id": "downtown-option",
   "metadata": {},
   "source": [
    "#### Упрощенный алгоритм Бойера-Мура"
   ]
  },
  {
   "cell_type": "code",
   "execution_count": 7,
   "id": "respective-reggae",
   "metadata": {},
   "outputs": [
    {
     "name": "stdout",
     "output_type": "stream",
     "text": [
      "Введите строку:\n",
      "uyqwertybk\n",
      "Введите подстроку:\n",
      "qwerty\n",
      "Если Вам нужна чувствительность регистра введите- 1, если нет- 0\n",
      "0\n",
      "2\n",
      "--- 0.234800 ms ---\n"
     ]
    }
   ],
   "source": [
    "import time\n",
    "def bmPredCompil(x):\n",
    "    d = {}\n",
    "    lenX = len(x)\n",
    "    for i in range(len(x)):\n",
    "        # сколько символов с правого края до этой буквы\n",
    "        d[ord(x[i])] = lenX - i\n",
    "    return d\n",
    "\n",
    "\n",
    "def boyerMurSearch(s, x):\n",
    "    d = bmPredCompil(x)\n",
    "    # k - проход по s\n",
    "    # j - проход по x\n",
    "    # i - место начала прохода по s\n",
    "    lenX = i = j = k = len(x)\n",
    "    while j > 0 and i<=len(s):\n",
    "     # совпали, двигаемся дальше (от конца к началу)\n",
    "        if s[k-1] == x[j-1]:\n",
    "            k -= 1\n",
    "            j -= 1\n",
    "        # иначе, продвигаемся по строке на d и начинаем с правого конца подстроки снова\n",
    "        else:\n",
    "            i += d[ord(s[i])]\n",
    "            j = lenX\n",
    "            k = i\n",
    "    if j <= 0:# нашли\n",
    "        return k\n",
    "    return None # не нашли\n",
    "\n",
    "\n",
    "\n",
    "text = input('Введите строку:\\n')\n",
    "sub_text = input('Введите подстроку:\\n')\n",
    "f=input('Если Вам нужна чувствительность регистра введите- 1, если нет- 0\\n')\n",
    "if(f==\"0\"):\n",
    "    text=text.lower()\n",
    "    sub_text=sub_text.lower()\n",
    "start_time = time.perf_counter()\n",
    "print(boyerMurSearch(text, sub_text))\n",
    "print(\"--- {:.6f} ms ---\".format((time.perf_counter() - start_time) * 1000))"
   ]
  },
  {
   "cell_type": "code",
   "execution_count": 9,
   "id": "bfbf9dc6",
   "metadata": {},
   "outputs": [
    {
     "name": "stdout",
     "output_type": "stream",
     "text": [
      "Введите строку:\n",
      "uyqwertybk\n",
      "Введите подстроку:\n",
      "qwerty\n",
      "Если Вам нужна чувствительность регистра введите- 1, если нет- 0\n",
      "0\n",
      "2\n",
      "--- 0.222800 ms ---\n"
     ]
    }
   ],
   "source": [
    "import time\n",
    "text = input('Введите строку:\\n')\n",
    "sub_text = input('Введите подстроку:\\n')\n",
    "f=input('Если Вам нужна чувствительность регистра введите- 1, если нет- 0\\n')\n",
    "if(f==\"0\"):\n",
    "    text=text.lower()\n",
    "    sub_text=sub_text.lower()\n",
    "start_time = time.perf_counter()\n",
    "print(text.find(sub_text))\n",
    "print(\"--- {:.6f} ms ---\".format((time.perf_counter() - start_time) * 1000))"
   ]
  },
  {
   "cell_type": "markdown",
   "id": "hybrid-memorial",
   "metadata": {},
   "source": [
    "### Задание №2\n",
    "Написать программу, определяющую, является ли данное\n",
    "расположение «решаемым», то есть можно ли из него за конечное число\n",
    "шагов перейти к правильному. Если это возможно, то необходимо найти хотя\n",
    "бы одно решение - последовательность движений, после которой числа будут\n",
    "расположены в правильном порядке.\n",
    "#### Входные данные: массив чисел, представляющий собой расстановку в\n",
    "Порядке «слева направо, сверху вниз». Число 0 обозначает пустое поле.\n",
    "Например, массив [1, 2, 3, 4, 5, 6, 7, 8, 9, 10, 11, 12, 13, 14, 15, 0] представляет\n",
    "собой «решенную» позицию элементов.\n",
    "#### Выходные данные: если решения нет, то функция должна вернуть\n",
    "Пустой массив []. Если решение есть, то необходимо представить решение —\n",
    "для каждого шага записывается номер передвигаемого на данном шаге\n",
    "элемента. "
   ]
  },
  {
   "cell_type": "code",
   "execution_count": null,
   "id": "eleven-generic",
   "metadata": {},
   "outputs": [],
   "source": []
  },
  {
   "cell_type": "markdown",
   "id": "arbitrary-amazon",
   "metadata": {},
   "source": [
    "### Вывод"
   ]
  },
  {
   "cell_type": "markdown",
   "id": "71bc58bf",
   "metadata": {},
   "source": []
  },
  {
   "cell_type": "code",
   "execution_count": 11,
   "id": "507c014c",
   "metadata": {},
   "outputs": [
    {
     "ename": "SyntaxError",
     "evalue": "invalid syntax (Temp/ipykernel_12624/2035576674.py, line 1)",
     "output_type": "error",
     "traceback": [
      "\u001b[1;36m  File \u001b[1;32m\"C:\\Users\\petro\\AppData\\Local\\Temp/ipykernel_12624/2035576674.py\"\u001b[1;36m, line \u001b[1;32m1\u001b[0m\n\u001b[1;33m    Алгоритм Кнута-Морриса-Пратта со сложностью O(n) показал себя наилучшим образом\u001b[0m\n\u001b[1;37m             ^\u001b[0m\n\u001b[1;31mSyntaxError\u001b[0m\u001b[1;31m:\u001b[0m invalid syntax\n"
     ]
    }
   ],
   "source": [
    "Алгоритм Кнута-Морриса-Пратта со сложностью O(n) показал себя наилучшим образом"
   ]
  }
 ],
 "metadata": {
  "kernelspec": {
   "display_name": "Python 3 (ipykernel)",
   "language": "python",
   "name": "python3"
  },
  "language_info": {
   "codemirror_mode": {
    "name": "ipython",
    "version": 3
   },
   "file_extension": ".py",
   "mimetype": "text/x-python",
   "name": "python",
   "nbconvert_exporter": "python",
   "pygments_lexer": "ipython3",
   "version": "3.9.7"
  }
 },
 "nbformat": 4,
 "nbformat_minor": 5
}
