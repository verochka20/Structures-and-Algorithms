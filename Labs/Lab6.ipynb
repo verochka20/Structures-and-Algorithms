{
 "cells": [
  {
   "cell_type": "markdown",
   "metadata": {
    "id": "0z3KlfKDn4_K"
   },
   "source": [
    "# Лабораторная работа 6. \n",
    "# Сетевые алгоритмы. Динамические алгоритмы поиска путей.\n"
   ]
  },
  {
   "cell_type": "markdown",
   "metadata": {
    "id": "96Gi_LEvmSVH"
   },
   "source": [
    "## Выполнила студентка группы БВТ2004 Петросян Вера Рафаэловна\n",
    "***"
   ]
  },
  {
   "cell_type": "markdown",
   "metadata": {
    "id": "GjdIp8aToKIe"
   },
   "source": [
    "### Задание\n",
    "\n",
    "1.  Реализовать алгоритм поиска кратчайшего расстояния между двумя вершинами ориентированного взвешенного графа в соответствии с вариантом. \n",
    "\n",
    "2.  Предусмотреть задание графа в виде матрицы смежности/инцидентности, читаемой из файла, либо графически с помощью пользовательского интерфейса. \n",
    "\n",
    "3.  Разработать графический интерфейс пользователя с визуализацией графа и отображением кратчайшего расстояния между задаваемыми пользователем вершинами.\n",
    "\n",
    "4. По результатам работы проанализировать временную сложность работы заданного алгоритма в зависимости от числа узлов и ребер графа.\n",
    "Данные представить в виде таблицы.\n",
    "\n"
   ]
  },
  {
   "cell_type": "markdown",
   "metadata": {
    "id": "LhhUXrAmotIA"
   },
   "source": [
    "### Алгоритмы:\n",
    "\n",
    "Алгоритм Флойда-Уоршелла| Алгоритм Дейкстры | Алгоритм Беллмана-Форда | Алгоритм Джонсона| Алгоритм Левита | Алгоритм Йена\n",
    "\n"
   ]
  },
  {
   "cell_type": "markdown",
   "metadata": {
    "id": "Wggfn8l7nG72"
   },
   "source": [
    "### Выполнение:"
   ]
  },
  {
   "cell_type": "code",
   "execution_count": 23,
   "metadata": {
    "id": "681a95mZnOSa",
    "scrolled": true
   },
   "outputs": [
    {
     "name": "stdout",
     "output_type": "stream",
     "text": [
      "Requirement already satisfied: pyvis in c:\\users\\petro\\anaconda3\\lib\\site-packages (0.2.0)\n",
      "Requirement already satisfied: jinja2>=2.9.6 in c:\\users\\petro\\anaconda3\\lib\\site-packages (from pyvis) (2.11.3)\n",
      "Requirement already satisfied: networkx>=1.11 in c:\\users\\petro\\anaconda3\\lib\\site-packages (from pyvis) (2.6.3)\n",
      "Requirement already satisfied: ipython>=5.3.0 in c:\\users\\petro\\anaconda3\\lib\\site-packages (from pyvis) (7.29.0)\n",
      "Requirement already satisfied: jsonpickle>=1.4.1 in c:\\users\\petro\\anaconda3\\lib\\site-packages (from pyvis) (2.1.0)\n",
      "Requirement already satisfied: setuptools>=18.5 in c:\\users\\petro\\anaconda3\\lib\\site-packages (from ipython>=5.3.0->pyvis) (58.0.4)\n",
      "Requirement already satisfied: colorama in c:\\users\\petro\\anaconda3\\lib\\site-packages (from ipython>=5.3.0->pyvis) (0.4.4)\n",
      "Requirement already satisfied: matplotlib-inline in c:\\users\\petro\\anaconda3\\lib\\site-packages (from ipython>=5.3.0->pyvis) (0.1.2)\n",
      "Requirement already satisfied: traitlets>=4.2 in c:\\users\\petro\\anaconda3\\lib\\site-packages (from ipython>=5.3.0->pyvis) (5.1.0)\n",
      "Requirement already satisfied: pygments in c:\\users\\petro\\anaconda3\\lib\\site-packages (from ipython>=5.3.0->pyvis) (2.10.0)\n",
      "Requirement already satisfied: backcall in c:\\users\\petro\\anaconda3\\lib\\site-packages (from ipython>=5.3.0->pyvis) (0.2.0)\n",
      "Requirement already satisfied: prompt-toolkit!=3.0.0,!=3.0.1,<3.1.0,>=2.0.0 in c:\\users\\petro\\anaconda3\\lib\\site-packages (from ipython>=5.3.0->pyvis) (3.0.20)\n",
      "Requirement already satisfied: decorator in c:\\users\\petro\\anaconda3\\lib\\site-packages (from ipython>=5.3.0->pyvis) (5.1.0)\n",
      "Requirement already satisfied: jedi>=0.16 in c:\\users\\petro\\anaconda3\\lib\\site-packages (from ipython>=5.3.0->pyvis) (0.18.0)\n",
      "Requirement already satisfied: pickleshare in c:\\users\\petro\\anaconda3\\lib\\site-packages (from ipython>=5.3.0->pyvis) (0.7.5)\n",
      "Requirement already satisfied: parso<0.9.0,>=0.8.0 in c:\\users\\petro\\anaconda3\\lib\\site-packages (from jedi>=0.16->ipython>=5.3.0->pyvis) (0.8.2)\n",
      "Requirement already satisfied: MarkupSafe>=0.23 in c:\\users\\petro\\anaconda3\\lib\\site-packages (from jinja2>=2.9.6->pyvis) (1.1.1)\n",
      "Requirement already satisfied: wcwidth in c:\\users\\petro\\anaconda3\\lib\\site-packages (from prompt-toolkit!=3.0.0,!=3.0.1,<3.1.0,>=2.0.0->ipython>=5.3.0->pyvis) (0.2.5)\n"
     ]
    }
   ],
   "source": [
    "!pip3 install pyvis\n",
    "import pandas as pd\n",
    "import networkx as nx\n",
    "\n",
    "import math\n",
    "import copy\n",
    "import random\n",
    "import time\n",
    "import matplotlib.pyplot as plt"
   ]
  },
  {
   "cell_type": "code",
   "execution_count": 24,
   "metadata": {},
   "outputs": [],
   "source": [
    "#Генерация графа в виде матрицы смежности\n",
    "def generate_matrix():\n",
    "    size = random.randint(30, 100)\n",
    "    matrix = [[math.inf for i in range(size)] for j in range(size)]\n",
    "    for i in range(size):\n",
    "        for j in range(size):\n",
    "            if random.randint(0, 3) == 3 and i != j:\n",
    "                rand_count = random.randint(1, 20)\n",
    "                matrix[i][j] = rand_count\n",
    "    return matrix"
   ]
  },
  {
   "cell_type": "code",
   "execution_count": 25,
   "metadata": {},
   "outputs": [],
   "source": [
    "def draw_graph(graph, path = None):\n",
    "    colors = None\n",
    "    if path:\n",
    "        colors = []\n",
    "        for item in graph.edges():\n",
    "            try:\n",
    "                index1 = path.index(item[0])\n",
    "                index2 = path.index(item[1])\n",
    "                if index1 + 1 != index2 and index1 - 1 != index2:\n",
    "                    raise\n",
    "                colors.append('blue')\n",
    "            except:\n",
    "                colors.append('red')\n",
    "    fig = plt.figure(1, figsize=(10, 10), dpi=60)\n",
    "    pos = nx.spectral_layout(graph)\n",
    "    labels = nx.get_edge_attributes(graph, 'weight')\n",
    "    nx.draw_networkx_nodes(graph, node_color = 'blue', node_size = 200, pos = pos)\n",
    "    nx.draw_networkx_edges(graph,edge_color = colors, pos = pos, arrowstyle = 'simple, tail_width = 0.05')\n",
    "    nx.draw_networkx_labels(graph, pos = pos)\n",
    "    nx.draw_networkx_edge_labels(graph, pos = pos, edge_labels = labels)"
   ]
  },
  {
   "cell_type": "code",
   "execution_count": 26,
   "metadata": {},
   "outputs": [],
   "source": [
    "#Создание графа, используя матрицу смежности\n",
    "def create_graph(matrix : list) -> nx.DiGraph:\n",
    "    graph = nx.DiGraph()\n",
    "    for i in range(1, len(matrix)):\n",
    "        graph.add_node(i)\n",
    "    for i in range(len(matrix)):\n",
    "        for j in range(len(matrix)):\n",
    "            if matrix[i][j] != math.inf and i != j:\n",
    "                graph.add_edge(i + 1, j + 1, weight=matrix[i][j], label=matrix[i][j])\n",
    "    return graph"
   ]
  },
  {
   "cell_type": "code",
   "execution_count": 27,
   "metadata": {},
   "outputs": [],
   "source": [
    "#АЛГОРИТМ ФЛОЙДА-УОРШЕЛЛА\n",
    "\n",
    "#Загрузка матрицы из файла\n",
    "with open(\"mat2.txt\", \"r\", encoding = \"utf-8\") as file:\n",
    "    matrix = [[int(num) for num in line.split(\" \")] for line in file]\n",
    "    for i in range(len(matrix)):\n",
    "        for j in range(len(matrix)):\n",
    "            if matrix[i][j] == 0:\n",
    "                matrix[i][j] = math.inf\n",
    "                \n",
    "#Создаём граф\n",
    "graph = create_graph(matrix)"
   ]
  },
  {
   "cell_type": "code",
   "execution_count": 28,
   "metadata": {
    "scrolled": true
   },
   "outputs": [
    {
     "data": {
      "image/png": "[encoded data removed]",
      "text/plain": [
       "<Figure size 600x600 with 1 Axes>"
      ]
     },
     "metadata": {},
     "output_type": "display_data"
    }
   ],
   "source": [
    "#Получение пути\n",
    "def get_path(H, v, u):\n",
    "    v -= 1\n",
    "    u -= 1\n",
    "    result = []\n",
    "    result.append(v)\n",
    "    while v != u:\n",
    "        v = H[v][u]\n",
    "        result.append(v)\n",
    "    __result = [el + 1 for el in result]\n",
    "    return __result\n",
    "\n",
    "\n",
    "#Алгоритм\n",
    "def floyd(matrix):\n",
    "    W = copy.deepcopy(matrix)\n",
    "    N = len(W)\n",
    "    H = [[0 for i in range(N)] for j in range(N)]\n",
    "    for i in range(len(W)):\n",
    "        for j in range(len(W)):\n",
    "            if W[i][j] != math.inf:\n",
    "                H[i][j] = j\n",
    "    for i in range(len(W)):\n",
    "        for j in range(len(W)):\n",
    "            if i == j: continue\n",
    "            if W[i][j] != math.inf:\n",
    "                for k in range(len(W)):\n",
    "                    if i == k or j == k: continue\n",
    "                    if W[i][k] > W[i][j] + W[j][k]:\n",
    "                        W[i][k] = W[i][j] + W[j][k]\n",
    "                        H[i][k] = H[i][j]\n",
    "    return (W, H)\n",
    "\n",
    "\n",
    "result = floyd(matrix)\n",
    "path = get_path(result[1], 2, 5)\n",
    "\n",
    "\n",
    "#Вносим графические изменения\n",
    "graph1 = copy.deepcopy(graph)\n",
    "for i in range(1, len(path)):\n",
    "    graph1.nodes[path[i - 1]]['color'] = 'green'\n",
    "    graph1.edges[path[i - 1], path[i]]['color'] = 'green'\n",
    "graph1.nodes[path[-1]]['color'] = 'green'\n",
    "\n",
    "draw_graph(graph, path)"
   ]
  },
  {
   "cell_type": "code",
   "execution_count": 29,
   "metadata": {},
   "outputs": [
    {
     "data": {
      "text/html": [
       "<div>\n",
       "<style scoped>\n",
       "    .dataframe tbody tr th:only-of-type {\n",
       "        vertical-align: middle;\n",
       "    }\n",
       "\n",
       "    .dataframe tbody tr th {\n",
       "        vertical-align: top;\n",
       "    }\n",
       "\n",
       "    .dataframe thead th {\n",
       "        text-align: right;\n",
       "    }\n",
       "</style>\n",
       "<table border=\"1\" class=\"dataframe\">\n",
       "  <thead>\n",
       "    <tr style=\"text-align: right;\">\n",
       "      <th></th>\n",
       "      <th>Количество узлов</th>\n",
       "      <th>Количество ребер</th>\n",
       "      <th>Время в мс</th>\n",
       "    </tr>\n",
       "  </thead>\n",
       "  <tbody>\n",
       "    <tr>\n",
       "      <th>0</th>\n",
       "      <td>81</td>\n",
       "      <td>1561</td>\n",
       "      <td>171</td>\n",
       "    </tr>\n",
       "    <tr>\n",
       "      <th>1</th>\n",
       "      <td>41</td>\n",
       "      <td>414</td>\n",
       "      <td>25</td>\n",
       "    </tr>\n",
       "    <tr>\n",
       "      <th>2</th>\n",
       "      <td>84</td>\n",
       "      <td>1733</td>\n",
       "      <td>159</td>\n",
       "    </tr>\n",
       "    <tr>\n",
       "      <th>3</th>\n",
       "      <td>69</td>\n",
       "      <td>1200</td>\n",
       "      <td>84</td>\n",
       "    </tr>\n",
       "    <tr>\n",
       "      <th>4</th>\n",
       "      <td>76</td>\n",
       "      <td>1454</td>\n",
       "      <td>111</td>\n",
       "    </tr>\n",
       "  </tbody>\n",
       "</table>\n",
       "</div>"
      ],
      "text/plain": [
       "   Количество узлов  Количество ребер  Время в мс\n",
       "0                81              1561         171\n",
       "1                41               414          25\n",
       "2                84              1733         159\n",
       "3                69              1200          84\n",
       "4                76              1454         111"
      ]
     },
     "execution_count": 29,
     "metadata": {},
     "output_type": "execute_result"
    }
   ],
   "source": [
    "#Тестовый блок для определения скорости работы алгоритма\n",
    "\n",
    "tests = []\n",
    "\n",
    "for i in range(5):\n",
    "    temp_matrix = generate_matrix()\n",
    "    node_counts = len(temp_matrix)\n",
    "    edge_counts = 0\n",
    "    for i in range(len(temp_matrix)):\n",
    "        for j in range(len(temp_matrix)):\n",
    "            if temp_matrix[i][j] != math.inf:\n",
    "                edge_counts += 1\n",
    "    t1 = time.time()\n",
    "    result = floyd(temp_matrix)\n",
    "    t2 = time.time()\n",
    "    delta = round((t2 - t1) * 1000)\n",
    "    tests.append([node_counts, edge_counts, delta])\n",
    "\n",
    "pd.DataFrame(tests, columns = [\"Количество узлов\", \"Количество ребер\", \"Время в мс\"])"
   ]
  },
  {
   "cell_type": "code",
   "execution_count": 30,
   "metadata": {},
   "outputs": [],
   "source": [
    "#АЛГОРИТМ ДЕЙKСТРЫ\n",
    "\n",
    "#Загрузка матрицы из файла\n",
    "with open(\"mat2.txt\", \"r\", encoding = \"utf-8\") as file:\n",
    "    matrix = [[int(num) for num in line.split(\" \")] for line in file]\n",
    "    for i in range(len(matrix)):\n",
    "        for j in range(len(matrix)):\n",
    "            if matrix[i][j] == 0:\n",
    "                matrix[i][j] = math.inf\n",
    "                \n",
    "#Создаём граф\n",
    "graph = create_graph(matrix)"
   ]
  },
  {
   "cell_type": "code",
   "execution_count": 31,
   "metadata": {},
   "outputs": [
    {
     "data": {
      "image/png": "[encoded data removed]",
      "text/plain": [
       "<Figure size 600x600 with 1 Axes>"
      ]
     },
     "metadata": {},
     "output_type": "display_data"
    }
   ],
   "source": [
    "#Алгоритм\n",
    "def dijkstra(__matrix, v, u):\n",
    "    matrix = copy.deepcopy(__matrix)\n",
    "    v -= 1\n",
    "    u -= 1\n",
    "    N = len(matrix)\n",
    "    D = [matrix[v][i] for i in range(N)]\n",
    "    D[v] = 0\n",
    "    P = [[v] for i in range(N)]\n",
    "    checked_nodes = {v}\n",
    "    for i in range(N):\n",
    "        temp_min = math.inf\n",
    "        node = None\n",
    "        for j in range(N):\n",
    "            if D[j] < temp_min and j not in checked_nodes:\n",
    "                temp_min = D[j]\n",
    "                node = j\n",
    "        if node is not None:\n",
    "            checked_nodes.add(node)\n",
    "            for k in range(N):\n",
    "                if D[k] > matrix[node][k] + D[node]:\n",
    "                    D[k] = matrix[node][k] + D[node]\n",
    "                    P[k] = copy.deepcopy(P[node])\n",
    "                    P[k].append(node)\n",
    "        else:\n",
    "            break\n",
    "                    \n",
    "    for i in range(N):\n",
    "        if D[i] != math.inf and P[i][0] != i:\n",
    "            P[i].append(i)\n",
    "    \n",
    "    if D[u] == math.inf:\n",
    "        path = []\n",
    "    else:\n",
    "        path = [el + 1 for el in P[u]]\n",
    "    return (D, path, P)\n",
    "\n",
    "\n",
    "\n",
    "result = dijkstra(matrix, 1, 5)\n",
    "path = result[1]\n",
    "\n",
    "\n",
    "\n",
    "#Вносим графические изменения\n",
    "\n",
    "graph1 = copy.deepcopy(graph)\n",
    "if len(path) > 0:\n",
    "    for i in range(1, len(path)):\n",
    "        graph1.nodes[path[i - 1]]['color'] = 'green'\n",
    "        graph1.edges[path[i - 1], path[i]]['color'] = 'green'\n",
    "    graph1.nodes[path[-1]]['color'] = 'green'\n",
    "\n",
    "draw_graph(graph1, path)"
   ]
  },
  {
   "cell_type": "code",
   "execution_count": 32,
   "metadata": {
    "scrolled": true
   },
   "outputs": [
    {
     "data": {
      "text/html": [
       "<div>\n",
       "<style scoped>\n",
       "    .dataframe tbody tr th:only-of-type {\n",
       "        vertical-align: middle;\n",
       "    }\n",
       "\n",
       "    .dataframe tbody tr th {\n",
       "        vertical-align: top;\n",
       "    }\n",
       "\n",
       "    .dataframe thead th {\n",
       "        text-align: right;\n",
       "    }\n",
       "</style>\n",
       "<table border=\"1\" class=\"dataframe\">\n",
       "  <thead>\n",
       "    <tr style=\"text-align: right;\">\n",
       "      <th></th>\n",
       "      <th>Количество узлов</th>\n",
       "      <th>Количество ребер</th>\n",
       "      <th>Время в мс</th>\n",
       "    </tr>\n",
       "  </thead>\n",
       "  <tbody>\n",
       "    <tr>\n",
       "      <th>0</th>\n",
       "      <td>90</td>\n",
       "      <td>2013</td>\n",
       "      <td>8</td>\n",
       "    </tr>\n",
       "    <tr>\n",
       "      <th>1</th>\n",
       "      <td>87</td>\n",
       "      <td>1859</td>\n",
       "      <td>8</td>\n",
       "    </tr>\n",
       "    <tr>\n",
       "      <th>2</th>\n",
       "      <td>48</td>\n",
       "      <td>564</td>\n",
       "      <td>2</td>\n",
       "    </tr>\n",
       "    <tr>\n",
       "      <th>3</th>\n",
       "      <td>99</td>\n",
       "      <td>2471</td>\n",
       "      <td>14</td>\n",
       "    </tr>\n",
       "    <tr>\n",
       "      <th>4</th>\n",
       "      <td>97</td>\n",
       "      <td>2329</td>\n",
       "      <td>10</td>\n",
       "    </tr>\n",
       "  </tbody>\n",
       "</table>\n",
       "</div>"
      ],
      "text/plain": [
       "   Количество узлов  Количество ребер  Время в мс\n",
       "0                90              2013           8\n",
       "1                87              1859           8\n",
       "2                48               564           2\n",
       "3                99              2471          14\n",
       "4                97              2329          10"
      ]
     },
     "execution_count": 32,
     "metadata": {},
     "output_type": "execute_result"
    }
   ],
   "source": [
    "#Тестовый блок для определения скорости работы алгоритма\n",
    "\n",
    "tests = []\n",
    "\n",
    "for i in range(5):\n",
    "    temp_matrix = generate_matrix()\n",
    "    node_counts = len(temp_matrix)\n",
    "    edge_counts = 0\n",
    "    for i in range(len(temp_matrix)):\n",
    "        for j in range(len(temp_matrix)):\n",
    "            if temp_matrix[i][j] != math.inf:\n",
    "                edge_counts += 1\n",
    "    t1 = time.time()\n",
    "    c1 = random.randint(1, len(temp_matrix) // 2)\n",
    "    c2 = random.randint(1, len(temp_matrix))\n",
    "    result = dijkstra(temp_matrix, c1, c2)\n",
    "    t2 = time.time()\n",
    "    delta = round((t2 - t1) * 1000)\n",
    "    tests.append([node_counts, edge_counts, delta])\n",
    "\n",
    "pd.DataFrame(tests, columns = [\"Количество узлов\", \"Количество ребер\", \"Время в мс\"])"
   ]
  },
  {
   "cell_type": "code",
   "execution_count": 33,
   "metadata": {},
   "outputs": [],
   "source": [
    "#АЛГОРИТМ БЕЛЛА-ФОРДА\n",
    "\n",
    "#Загрузка матрицы из файла\n",
    "with open(\"mat2.txt\", \"r\", encoding = \"utf-8\") as file:\n",
    "    matrix = [[int(num) for num in line.split(\" \")] for line in file]\n",
    "    for i in range(len(matrix)):\n",
    "        for j in range(len(matrix)):\n",
    "            if matrix[i][j] == 0:\n",
    "                matrix[i][j] = math.inf\n",
    "                \n",
    "#Создаём граф\n",
    "graph = create_graph(matrix)"
   ]
  },
  {
   "cell_type": "code",
   "execution_count": 34,
   "metadata": {},
   "outputs": [
    {
     "data": {
      "image/png": "[encoded data removed]",
      "text/plain": [
       "<Figure size 600x600 with 1 Axes>"
      ]
     },
     "metadata": {},
     "output_type": "display_data"
    }
   ],
   "source": [
    "#Алгоритм\n",
    "def bell_ford(matrix, v, u):\n",
    "    v -= 1\n",
    "    u -= 1\n",
    "    N = len(matrix)\n",
    "    cycle = False\n",
    "    A = [[math.inf for i in range(N)] for j in range(N)]\n",
    "    P = [[v] for i in range(N)]\n",
    "    A[0][v] = 0\n",
    "    for k in range(1, N):\n",
    "        A[k] = copy.deepcopy(A[k - 1])\n",
    "        for i in range(N):\n",
    "            for j in range(N):\n",
    "                if matrix[i][j] == math.inf:\n",
    "                    continue\n",
    "                if A[k][j] > A[k - 1][i] + matrix[i][j]:\n",
    "                    A[k][j] = A[k - 1][i] + matrix[i][j]\n",
    "                    P[j] = copy.deepcopy(P[i])\n",
    "                    P[j].append(j)\n",
    "    if A[-1] != A[-2]:\n",
    "        cycle = True\n",
    "    if A[-1][u] == math.inf or len(P[u]) == 1:\n",
    "        path = []\n",
    "    else:\n",
    "        path = [el + 1 for el in P[u]]\n",
    "    return (A[-1], path, P, cycle)\n",
    "\n",
    "result = bell_ford(matrix, 1, 3)\n",
    "path = result[1]\n",
    "\n",
    "#Вносим графические изменения\n",
    "graph1 = copy.deepcopy(graph)\n",
    "if len(path) > 0:\n",
    "    for i in range(1, len(path)):\n",
    "        graph1.nodes[path[i - 1]]['color'] = 'green'\n",
    "        graph1.edges[path[i - 1], path[i]]['color'] = 'green'\n",
    "    graph1.nodes[path[-1]]['color'] = 'green'\n",
    "\n",
    "draw_graph(graph1, path)"
   ]
  },
  {
   "cell_type": "code",
   "execution_count": 35,
   "metadata": {},
   "outputs": [
    {
     "data": {
      "text/html": [
       "<div>\n",
       "<style scoped>\n",
       "    .dataframe tbody tr th:only-of-type {\n",
       "        vertical-align: middle;\n",
       "    }\n",
       "\n",
       "    .dataframe tbody tr th {\n",
       "        vertical-align: top;\n",
       "    }\n",
       "\n",
       "    .dataframe thead th {\n",
       "        text-align: right;\n",
       "    }\n",
       "</style>\n",
       "<table border=\"1\" class=\"dataframe\">\n",
       "  <thead>\n",
       "    <tr style=\"text-align: right;\">\n",
       "      <th></th>\n",
       "      <th>Количество узлов</th>\n",
       "      <th>Количество ребер</th>\n",
       "      <th>Время в мс</th>\n",
       "    </tr>\n",
       "  </thead>\n",
       "  <tbody>\n",
       "    <tr>\n",
       "      <th>0</th>\n",
       "      <td>49</td>\n",
       "      <td>1176</td>\n",
       "      <td>26</td>\n",
       "    </tr>\n",
       "    <tr>\n",
       "      <th>1</th>\n",
       "      <td>38</td>\n",
       "      <td>703</td>\n",
       "      <td>14</td>\n",
       "    </tr>\n",
       "    <tr>\n",
       "      <th>2</th>\n",
       "      <td>50</td>\n",
       "      <td>1225</td>\n",
       "      <td>35</td>\n",
       "    </tr>\n",
       "    <tr>\n",
       "      <th>3</th>\n",
       "      <td>95</td>\n",
       "      <td>4465</td>\n",
       "      <td>198</td>\n",
       "    </tr>\n",
       "    <tr>\n",
       "      <th>4</th>\n",
       "      <td>69</td>\n",
       "      <td>2346</td>\n",
       "      <td>73</td>\n",
       "    </tr>\n",
       "  </tbody>\n",
       "</table>\n",
       "</div>"
      ],
      "text/plain": [
       "   Количество узлов  Количество ребер  Время в мс\n",
       "0                49              1176          26\n",
       "1                38               703          14\n",
       "2                50              1225          35\n",
       "3                95              4465         198\n",
       "4                69              2346          73"
      ]
     },
     "execution_count": 35,
     "metadata": {},
     "output_type": "execute_result"
    }
   ],
   "source": [
    "#Тестовый блок для определения скорости работы алгоритма\n",
    "\n",
    "tests = []\n",
    "\n",
    "for i in range(5):\n",
    "    temp_matrix = generate_matrix()\n",
    "    node_counts = len(temp_matrix)\n",
    "    edge_counts = 0\n",
    "    for i in range(len(temp_matrix)):\n",
    "        for j in range(i):\n",
    "            if temp_matrix[j][i] != 0:\n",
    "                edge_counts += 1\n",
    "    t1 = time.time()\n",
    "    c1 = random.randint(1, len(temp_matrix) // 2)\n",
    "    c2 = random.randint(1, len(temp_matrix))\n",
    "    result = bell_ford(temp_matrix, c1, c2)\n",
    "    t2 = time.time()\n",
    "    delta = round((t2 - t1) * 1000)\n",
    "    tests.append([node_counts, edge_counts, delta])\n",
    "\n",
    "pd.DataFrame(tests, columns = [\"Количество узлов\", \"Количество ребер\", \"Время в мс\"])"
   ]
  },
  {
   "cell_type": "code",
   "execution_count": 36,
   "metadata": {},
   "outputs": [],
   "source": [
    "#АЛГОРИТМ ДЖОНСОНА\n",
    "\n",
    "#Загрузка матрицы из файла\n",
    "with open(\"mat2.txt\", \"r\", encoding = \"utf-8\") as file:\n",
    "    matrix = [[int(num) for num in line.split(\" \")] for line in file]\n",
    "    for i in range(len(matrix)):\n",
    "        for j in range(len(matrix)):\n",
    "            if matrix[i][j] == 0:\n",
    "                matrix[i][j] = math.inf\n",
    "                \n",
    "#Создаём граф\n",
    "graph = create_graph(matrix)"
   ]
  },
  {
   "cell_type": "code",
   "execution_count": 37,
   "metadata": {},
   "outputs": [
    {
     "data": {
      "image/png": "[encoded data removed]",
      "text/plain": [
       "<Figure size 600x600 with 1 Axes>"
      ]
     },
     "metadata": {},
     "output_type": "display_data"
    }
   ],
   "source": [
    "#Алгоритм\n",
    "def johnson(__matrix, v, u):\n",
    "    v -= 1\n",
    "    u -= 1\n",
    "    w = copy.deepcopy(__matrix)\n",
    "    matrix = copy.deepcopy(__matrix)\n",
    "    N = len(matrix)\n",
    "    for i in range(N):\n",
    "        w[i].append(math.inf)\n",
    "    w.append([0 for i in range(N + 1)])\n",
    "    temp_result = bell_ford(w, N + 1, 1)\n",
    "    if temp_result[3] == True:\n",
    "        return ([], [], [])\n",
    "    for i in range(N):\n",
    "        for j in range(N):\n",
    "            if matrix[i][j] != math.inf and temp_result[0][i] != math.inf and temp_result[0][j] != math.inf:\n",
    "                matrix[i][j] += temp_result[0][i] - temp_result[0][j]\n",
    "    distArr = []\n",
    "    pathArr = []\n",
    "    for i in range(N):\n",
    "        dijkstra_result = dijkstra(matrix, i + 1, i + 1)\n",
    "        distArr.append(dijkstra_result[0])\n",
    "        pathArr.append(dijkstra_result[2])\n",
    "    for i in range(N):\n",
    "        for j in range(N):\n",
    "            if distArr[i][j] != math.inf and temp_result[0][i] != math.inf and temp_result[0][j] != math.inf:\n",
    "                distArr[i][j] += temp_result[0][j] - temp_result[0][i]\n",
    "    \n",
    "    return (distArr, [el + 1 for el in pathArr[v][u]], pathArr)\n",
    "\n",
    "\n",
    "result = johnson(matrix, 6, 2)\n",
    "path = result[1]\n",
    "\n",
    "#Вносим графические изменения\n",
    "graph1 = copy.deepcopy(graph)\n",
    "if len(path) > 0:\n",
    "    for i in range(1, len(path)):\n",
    "        graph1.nodes[path[i - 1]]['color'] = 'green'\n",
    "        graph1.edges[path[i - 1], path[i]]['color'] = 'green'\n",
    "    graph1.nodes[path[-1]]['color'] = 'green'\n",
    "\n",
    "draw_graph(graph1, path)"
   ]
  },
  {
   "cell_type": "code",
   "execution_count": 38,
   "metadata": {},
   "outputs": [
    {
     "data": {
      "text/html": [
       "<div>\n",
       "<style scoped>\n",
       "    .dataframe tbody tr th:only-of-type {\n",
       "        vertical-align: middle;\n",
       "    }\n",
       "\n",
       "    .dataframe tbody tr th {\n",
       "        vertical-align: top;\n",
       "    }\n",
       "\n",
       "    .dataframe thead th {\n",
       "        text-align: right;\n",
       "    }\n",
       "</style>\n",
       "<table border=\"1\" class=\"dataframe\">\n",
       "  <thead>\n",
       "    <tr style=\"text-align: right;\">\n",
       "      <th></th>\n",
       "      <th>Количество узлов</th>\n",
       "      <th>Количество ребер</th>\n",
       "      <th>Время в мс</th>\n",
       "    </tr>\n",
       "  </thead>\n",
       "  <tbody>\n",
       "    <tr>\n",
       "      <th>0</th>\n",
       "      <td>46</td>\n",
       "      <td>1035</td>\n",
       "      <td>161</td>\n",
       "    </tr>\n",
       "    <tr>\n",
       "      <th>1</th>\n",
       "      <td>60</td>\n",
       "      <td>1770</td>\n",
       "      <td>288</td>\n",
       "    </tr>\n",
       "    <tr>\n",
       "      <th>2</th>\n",
       "      <td>84</td>\n",
       "      <td>3486</td>\n",
       "      <td>764</td>\n",
       "    </tr>\n",
       "    <tr>\n",
       "      <th>3</th>\n",
       "      <td>61</td>\n",
       "      <td>1830</td>\n",
       "      <td>319</td>\n",
       "    </tr>\n",
       "    <tr>\n",
       "      <th>4</th>\n",
       "      <td>67</td>\n",
       "      <td>2211</td>\n",
       "      <td>414</td>\n",
       "    </tr>\n",
       "  </tbody>\n",
       "</table>\n",
       "</div>"
      ],
      "text/plain": [
       "   Количество узлов  Количество ребер  Время в мс\n",
       "0                46              1035         161\n",
       "1                60              1770         288\n",
       "2                84              3486         764\n",
       "3                61              1830         319\n",
       "4                67              2211         414"
      ]
     },
     "execution_count": 38,
     "metadata": {},
     "output_type": "execute_result"
    }
   ],
   "source": [
    "#Тестовый блок для определения скорости работы алгоритма\n",
    "\n",
    "tests = []\n",
    "\n",
    "for i in range(5):\n",
    "    temp_matrix = generate_matrix()\n",
    "    node_counts = len(temp_matrix)\n",
    "    edge_counts = 0\n",
    "    for i in range(len(temp_matrix)):\n",
    "        for j in range(i):\n",
    "            if temp_matrix[j][i] != 0:\n",
    "                edge_counts += 1\n",
    "    t1 = time.time()\n",
    "    c1 = random.randint(1, len(temp_matrix) // 2)\n",
    "    c2 = random.randint(1, len(temp_matrix))\n",
    "    result = johnson(temp_matrix, c1, c2)\n",
    "    t2 = time.time()\n",
    "    delta = round((t2 - t1) * 1000)\n",
    "    tests.append([node_counts, edge_counts, delta])\n",
    "\n",
    "pd.DataFrame(tests, columns = [\"Количество узлов\", \"Количество ребер\", \"Время в мс\"])"
   ]
  },
  {
   "cell_type": "code",
   "execution_count": 39,
   "metadata": {},
   "outputs": [],
   "source": [
    "#АЛГОРИТМ ЛЕВИТА\n",
    "\n",
    "#Загрузка матрицы из файла\n",
    "with open(\"mat2.txt\", \"r\", encoding = \"utf-8\") as file:\n",
    "    matrix = [[int(num) for num in line.split(\" \")] for line in file]\n",
    "    for i in range(len(matrix)):\n",
    "        for j in range(len(matrix)):\n",
    "            if matrix[i][j] == 0:\n",
    "                matrix[i][j] = math.inf\n",
    "#Создаём граф\n",
    "graph = create_graph(matrix)"
   ]
  },
  {
   "cell_type": "code",
   "execution_count": 40,
   "metadata": {},
   "outputs": [
    {
     "data": {
      "image/png": "[encoded data removed]",
      "text/plain": [
       "<Figure size 600x600 with 1 Axes>"
      ]
     },
     "metadata": {},
     "output_type": "display_data"
    }
   ],
   "source": [
    "#Алгоритм\n",
    "def levit(__matrix, v, u):\n",
    "    v -= 1\n",
    "    u -= 1\n",
    "    matrix = copy.deepcopy(__matrix)\n",
    "    N = len(matrix)\n",
    "    paths = [[v] for i in range(N)]\n",
    "    distance = [math.inf for i in range(N)]\n",
    "    distance[v] = 0\n",
    "    m0 = set()\n",
    "    m1 = {\"main_queue\" : [v], \"urgent_queue\": []}\n",
    "    m2 = set(range(N))\n",
    "    m2.remove(v)\n",
    "    while len(m1[\"main_queue\"]) or len(m1[\"urgent_queue\"]):\n",
    "        if len(m1[\"urgent_queue\"]):\n",
    "            cur_node = m1[\"urgent_queue\"].pop(0)\n",
    "        else:\n",
    "            cur_node = m1[\"main_queue\"].pop(0)\n",
    "        for temp_node in range(N):\n",
    "            if distance[temp_node] == math.inf and matrix[cur_node][temp_node] == math.inf:\n",
    "                continue\n",
    "            if temp_node in m2:\n",
    "                m2.remove(temp_node)\n",
    "                calculated_distance = distance[cur_node] + matrix[cur_node][temp_node]\n",
    "                if calculated_distance < distance[temp_node]:\n",
    "                    distance[temp_node] = calculated_distance\n",
    "                    paths[temp_node] = copy.deepcopy(paths[cur_node])\n",
    "                    paths[temp_node].append(temp_node)\n",
    "                m1[\"main_queue\"].append(temp_node)\n",
    "            elif temp_node in m1[\"main_queue\"] or temp_node in m1[\"urgent_queue\"]:\n",
    "                calculated_distance = distance[cur_node] + matrix[cur_node][temp_node]\n",
    "                if calculated_distance < distance[temp_node]:\n",
    "                    distance[temp_node] = calculated_distance\n",
    "                    paths[temp_node] = copy.deepcopy(paths[cur_node])\n",
    "                    paths[temp_node].append(temp_node)\n",
    "            elif temp_node in m0 and distance[temp_node] > distance[cur_node] + matrix[cur_node][temp_node]:\n",
    "                m0.remove(temp_node)\n",
    "                m1[\"urgent_queue\"].append(temp_node)\n",
    "                calculated_distance = distance[cur_node] + matrix[cur_node][temp_node]\n",
    "                if calculated_distance < distance[temp_node]:\n",
    "                    distance[temp_node] = calculated_distance\n",
    "                    paths[temp_node] = copy.deepcopy(paths[cur_node])\n",
    "                    paths[temp_node].append(temp_node)\n",
    "        m0.add(cur_node)\n",
    "    return distance, [el + 1 for el in paths[u]], paths\n",
    "\n",
    "result = levit(matrix, 1, 6)\n",
    "path = result[1]\n",
    "#Вносим графические изменения\n",
    "graph1 = copy.deepcopy(graph)\n",
    "if len(path) > 0:\n",
    "    for i in range(1, len(path)):\n",
    "        graph1.nodes[path[i - 1]]['color'] = 'green'\n",
    "        graph1.edges[path[i - 1], path[i]]['color'] = 'green'\n",
    "    graph1.nodes[path[-1]]['color'] = 'green'\n",
    "\n",
    "draw_graph(graph1, path)"
   ]
  },
  {
   "cell_type": "code",
   "execution_count": 41,
   "metadata": {
    "scrolled": true
   },
   "outputs": [
    {
     "data": {
      "text/html": [
       "<div>\n",
       "<style scoped>\n",
       "    .dataframe tbody tr th:only-of-type {\n",
       "        vertical-align: middle;\n",
       "    }\n",
       "\n",
       "    .dataframe tbody tr th {\n",
       "        vertical-align: top;\n",
       "    }\n",
       "\n",
       "    .dataframe thead th {\n",
       "        text-align: right;\n",
       "    }\n",
       "</style>\n",
       "<table border=\"1\" class=\"dataframe\">\n",
       "  <thead>\n",
       "    <tr style=\"text-align: right;\">\n",
       "      <th></th>\n",
       "      <th>Количество узлов</th>\n",
       "      <th>Количество ребер</th>\n",
       "      <th>Время в мс</th>\n",
       "    </tr>\n",
       "  </thead>\n",
       "  <tbody>\n",
       "    <tr>\n",
       "      <th>0</th>\n",
       "      <td>33</td>\n",
       "      <td>528</td>\n",
       "      <td>3</td>\n",
       "    </tr>\n",
       "    <tr>\n",
       "      <th>1</th>\n",
       "      <td>56</td>\n",
       "      <td>1540</td>\n",
       "      <td>9</td>\n",
       "    </tr>\n",
       "    <tr>\n",
       "      <th>2</th>\n",
       "      <td>45</td>\n",
       "      <td>990</td>\n",
       "      <td>5</td>\n",
       "    </tr>\n",
       "    <tr>\n",
       "      <th>3</th>\n",
       "      <td>85</td>\n",
       "      <td>3570</td>\n",
       "      <td>18</td>\n",
       "    </tr>\n",
       "    <tr>\n",
       "      <th>4</th>\n",
       "      <td>83</td>\n",
       "      <td>3403</td>\n",
       "      <td>22</td>\n",
       "    </tr>\n",
       "  </tbody>\n",
       "</table>\n",
       "</div>"
      ],
      "text/plain": [
       "   Количество узлов  Количество ребер  Время в мс\n",
       "0                33               528           3\n",
       "1                56              1540           9\n",
       "2                45               990           5\n",
       "3                85              3570          18\n",
       "4                83              3403          22"
      ]
     },
     "execution_count": 41,
     "metadata": {},
     "output_type": "execute_result"
    }
   ],
   "source": [
    "#Тестовый блок для определения скорости работы алгоритма\n",
    "\n",
    "tests = []\n",
    "\n",
    "for i in range(5):\n",
    "    temp_matrix = generate_matrix()\n",
    "    node_counts = len(temp_matrix)\n",
    "    edge_counts = 0\n",
    "    for i in range(len(temp_matrix)):\n",
    "        for j in range(i):\n",
    "            if temp_matrix[j][i] != 0:\n",
    "                edge_counts += 1\n",
    "    t1 = time.time()\n",
    "    c1 = random.randint(1, len(temp_matrix) // 2)\n",
    "    c2 = random.randint(1, len(temp_matrix))\n",
    "    result = levit(temp_matrix, c1, c2)\n",
    "    t2 = time.time()\n",
    "    delta = round((t2 - t1) * 1000)\n",
    "    tests.append([node_counts, edge_counts, delta])\n",
    "\n",
    "pd.DataFrame(tests, columns = [\"Количество узлов\", \"Количество ребер\", \"Время в мс\"])"
   ]
  },
  {
   "cell_type": "code",
   "execution_count": 42,
   "metadata": {},
   "outputs": [],
   "source": [
    "#АЛГОРИТМ ЙЕНА\n",
    "\n",
    "#Загрузка матрицы из файла\n",
    "with open(\"mat2.txt\", \"r\", encoding = \"utf-8\") as file:\n",
    "    matrix = [[int(num) for num in line.split(\" \")] for line in file]\n",
    "    for i in range(len(matrix)):\n",
    "        for j in range(len(matrix)):\n",
    "            if matrix[i][j] == 0:\n",
    "                matrix[i][j] = math.inf\n",
    "#Создаём граф\n",
    "graph = create_graph(matrix)"
   ]
  },
  {
   "cell_type": "code",
   "execution_count": 43,
   "metadata": {},
   "outputs": [
    {
     "name": "stdout",
     "output_type": "stream",
     "text": [
      "Номер пути 1\n"
     ]
    },
    {
     "data": {
      "image/png": "[encoded data removed]",
      "text/plain": [
       "<Figure size 600x600 with 1 Axes>"
      ]
     },
     "metadata": {},
     "output_type": "display_data"
    },
    {
     "name": "stdout",
     "output_type": "stream",
     "text": [
      "Номер пути 2\n"
     ]
    },
    {
     "data": {
      "image/png": "[encoded data removed]",
      "text/plain": [
       "<Figure size 600x600 with 1 Axes>"
      ]
     },
     "metadata": {},
     "output_type": "display_data"
    },
    {
     "name": "stdout",
     "output_type": "stream",
     "text": [
      "Номер пути 3\n"
     ]
    },
    {
     "data": {
      "image/png": "[encoded data removed]",
      "text/plain": [
       "<Figure size 600x600 with 1 Axes>"
      ]
     },
     "metadata": {},
     "output_type": "display_data"
    },
    {
     "name": "stdout",
     "output_type": "stream",
     "text": [
      "Номер пути 4\n"
     ]
    },
    {
     "data": {
      "image/png": "[encoded data removed]",
      "text/plain": [
       "<Figure size 600x600 with 1 Axes>"
      ]
     },
     "metadata": {},
     "output_type": "display_data"
    },
    {
     "name": "stdout",
     "output_type": "stream",
     "text": [
      "Номер пути 5\n"
     ]
    },
    {
     "data": {
      "image/png": "[encoded data removed]",
      "text/plain": [
       "<Figure size 600x600 with 1 Axes>"
      ]
     },
     "metadata": {},
     "output_type": "display_data"
    }
   ],
   "source": [
    "#Алгоритм\n",
    "def yen(__matrix, v, u, K):\n",
    "    v -= 1\n",
    "    u -= 1\n",
    "    matrix = copy.deepcopy(__matrix)\n",
    "    N = len(matrix)\n",
    "    temp = dijkstra(matrix, v + 1, u + 1)\n",
    "    candidates = set()\n",
    "    paths = [[el - 1 for el in temp[1]]]\n",
    "    lengths = [temp[0][u]]\n",
    "    if len(paths[0]) < 2:\n",
    "        return ([], [])\n",
    "    for k in range (1, K):\n",
    "        cur_mat = copy.deepcopy(matrix)\n",
    "        for i in range(len(paths[-1]) - 1):\n",
    "            spur_node = paths[-1][i]\n",
    "            root_path = paths[-1][:i + 1]\n",
    "            \n",
    "            for path in paths:\n",
    "                if root_path == path[:i + 1]:\n",
    "                    cur_mat[path[i]][path[i + 1]] = math.inf\n",
    "            \n",
    "            for node in root_path:\n",
    "                if node != spur_node:\n",
    "                    cur_mat[node] = [math.inf for j in range(N)]\n",
    "            \n",
    "            temp = dijkstra(cur_mat, spur_node + 1, u + 1)\n",
    "            spur_path = [el - 1 for el in temp[1][1:]]\n",
    "            if len(spur_path) < 1:\n",
    "                continue\n",
    "            \n",
    "            total_path = root_path\n",
    "            total_path.extend(spur_path)\n",
    "            total_path = tuple(total_path)\n",
    "            distance = 0\n",
    "            for j in range(1, len(total_path)):\n",
    "                distance += matrix[total_path[j - 1]][total_path[j]]\n",
    "\n",
    "            candidates.add((total_path, distance))\n",
    "        if len(candidates) == 0:\n",
    "            break\n",
    "        \n",
    "        sorted_candidates = list(candidates)\n",
    "        sorted_candidates.sort(key = lambda x : x[1])\n",
    "        paths.append(list(sorted_candidates[0][0]))\n",
    "        lengths.append(sorted_candidates[0][1])\n",
    "        candidates.remove(sorted_candidates[0])\n",
    "    for i in range(len(paths)):\n",
    "        paths[i] = [el + 1 for el in paths[i]]\n",
    "    return (paths, lengths)\n",
    "\n",
    "result = yen(matrix, 1, 6, 5)\n",
    "paths = result[0]\n",
    "#Вносим графические изменения\n",
    "for i in range(len(paths)):\n",
    "    graph1 = copy.deepcopy(graph)\n",
    "    path = paths[i]\n",
    "    for j in range(1, len(path)):\n",
    "        graph1.nodes[path[j - 1]]['color'] = 'green'\n",
    "        graph1.edges[path[j - 1], path[j]]['color'] = 'green'\n",
    "    graph1.nodes[path[-1]]['color'] = 'green'\n",
    "    \n",
    "    draw_graph(graph1, paths[i])\n",
    "    print(f\"Номер пути {i + 1}\")\n",
    "    plt.show()"
   ]
  },
  {
   "cell_type": "code",
   "execution_count": 44,
   "metadata": {},
   "outputs": [
    {
     "data": {
      "text/html": [
       "<div>\n",
       "<style scoped>\n",
       "    .dataframe tbody tr th:only-of-type {\n",
       "        vertical-align: middle;\n",
       "    }\n",
       "\n",
       "    .dataframe tbody tr th {\n",
       "        vertical-align: top;\n",
       "    }\n",
       "\n",
       "    .dataframe thead th {\n",
       "        text-align: right;\n",
       "    }\n",
       "</style>\n",
       "<table border=\"1\" class=\"dataframe\">\n",
       "  <thead>\n",
       "    <tr style=\"text-align: right;\">\n",
       "      <th></th>\n",
       "      <th>Количество узлов</th>\n",
       "      <th>Количество ребер</th>\n",
       "      <th>Кол-во маршрутов</th>\n",
       "      <th>Время в мс</th>\n",
       "    </tr>\n",
       "  </thead>\n",
       "  <tbody>\n",
       "    <tr>\n",
       "      <th>0</th>\n",
       "      <td>95</td>\n",
       "      <td>4465</td>\n",
       "      <td>10</td>\n",
       "      <td>514</td>\n",
       "    </tr>\n",
       "    <tr>\n",
       "      <th>1</th>\n",
       "      <td>52</td>\n",
       "      <td>1326</td>\n",
       "      <td>9</td>\n",
       "      <td>106</td>\n",
       "    </tr>\n",
       "    <tr>\n",
       "      <th>2</th>\n",
       "      <td>66</td>\n",
       "      <td>2145</td>\n",
       "      <td>9</td>\n",
       "      <td>8</td>\n",
       "    </tr>\n",
       "    <tr>\n",
       "      <th>3</th>\n",
       "      <td>67</td>\n",
       "      <td>2211</td>\n",
       "      <td>8</td>\n",
       "      <td>193</td>\n",
       "    </tr>\n",
       "    <tr>\n",
       "      <th>4</th>\n",
       "      <td>47</td>\n",
       "      <td>1081</td>\n",
       "      <td>10</td>\n",
       "      <td>140</td>\n",
       "    </tr>\n",
       "  </tbody>\n",
       "</table>\n",
       "</div>"
      ],
      "text/plain": [
       "   Количество узлов  Количество ребер  Кол-во маршрутов  Время в мс\n",
       "0                95              4465                10         514\n",
       "1                52              1326                 9         106\n",
       "2                66              2145                 9           8\n",
       "3                67              2211                 8         193\n",
       "4                47              1081                10         140"
      ]
     },
     "execution_count": 44,
     "metadata": {},
     "output_type": "execute_result"
    }
   ],
   "source": [
    "#Тестовый блок для определения скорости работы алгоритма\n",
    "\n",
    "tests = []\n",
    "\n",
    "for i in range(5):\n",
    "    temp_matrix = generate_matrix()\n",
    "    node_counts = len(temp_matrix)\n",
    "    edge_counts = 0\n",
    "    for i in range(len(temp_matrix)):\n",
    "        for j in range(i):\n",
    "            if temp_matrix[j][i] != 0:\n",
    "                edge_counts += 1\n",
    "    t1 = time.time()\n",
    "    c1 = random.randint(1, len(temp_matrix) // 2)\n",
    "    c2 = random.randint(1, len(temp_matrix))\n",
    "    c3 = random.randint(3, 10)\n",
    "    result = yen(temp_matrix, c1, c2, c3)\n",
    "    t2 = time.time()\n",
    "    delta = round((t2 - t1) * 1000)\n",
    "    tests.append([node_counts, edge_counts, c3, delta])\n",
    "\n",
    "pd.DataFrame(tests, columns = [\"Количество узлов\", \"Количество ребер\", \"Кол-во маршрутов\", \"Время в мс\"])"
   ]
  }
 ],
 "metadata": {
  "colab": {
   "name": "Lab6.ipynb",
   "provenance": []
  },
  "kernelspec": {
   "display_name": "Python 3 (ipykernel)",
   "language": "python",
   "name": "python3"
  },
  "language_info": {
   "codemirror_mode": {
    "name": "ipython",
    "version": 3
   },
   "file_extension": ".py",
   "mimetype": "text/x-python",
   "name": "python",
   "nbconvert_exporter": "python",
   "pygments_lexer": "ipython3",
   "version": "3.9.7"
  }
 },
 "nbformat": 4,
 "nbformat_minor": 1
}
