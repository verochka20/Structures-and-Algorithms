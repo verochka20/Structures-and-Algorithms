{
 "cells": [
  {
   "cell_type": "markdown",
   "id": "fifteen-sailing",
   "metadata": {},
   "source": [
    "# Лабораторная работа №2\n",
    "## Выполнила студентка группы БВТ2004 Петросян Вера Рафаэловна"
   ]
  },
  {
   "cell_type": "markdown",
   "id": "particular-syndicate",
   "metadata": {},
   "source": [
    "### Оглавление\n",
    "1. [Задание 1](#Задание-№1)\n",
    "2. [Задание 2](#Задание-№2)\n",
    "3. [Задание 3](#Задание-№3)"
   ]
  },
  {
   "cell_type": "markdown",
   "id": "arctic-stocks",
   "metadata": {},
   "source": [
    "### Задание №1\n",
    "Реализовать методы поиска в соответствии с заданием. Организовать генерацию начального набора случайных данных. Для всех вариантов добавить реализацию добавления, поиска и удаления элементов. Оценить время работы каждого алгоритма поиска и сравнить его со временем работы стандартной функции поиска, используемой в выбранном языке программирования."
   ]
  },
  {
   "cell_type": "code",
   "execution_count": 1,
   "id": "caring-truck",
   "metadata": {
    "scrolled": true
   },
   "outputs": [
    {
     "name": "stdout",
     "output_type": "stream",
     "text": [
      "33 79 246 370 425 608 619 805 894 984\n",
      "Index of 33: 1\n",
      "--- 0.212900 ms ---\n"
     ]
    }
   ],
   "source": [
    "#Бинарный поиск\n",
    "import random\n",
    "from random import randint\n",
    "import time\n",
    "\n",
    "def binary_search(list, item):\n",
    "    low = 0\n",
    "    high = len(list) - 1\n",
    "    i = 0\n",
    "    while low <= high:\n",
    "        mid = (low + high) // 2\n",
    "        guess = list[mid]\n",
    "        if guess == item:\n",
    "            return mid\n",
    "        if guess > item:\n",
    "            high = mid - 1\n",
    "        else:\n",
    "            low = mid + 1\n",
    "        i=i+1\n",
    "    return None\n",
    "\n",
    "\n",
    "a=random.sample(range(1000), 10)\n",
    "a.sort()\n",
    "print(*a)\n",
    "c=a[random.randint(0,9)]\n",
    "start_time = time.perf_counter()\n",
    "print(\"Index of {}: {}\".format(c, binary_search(a, c)+1))\n",
    "print(\"--- {:.6f} ms ---\".format((time.perf_counter() - start_time) * 1000))"
   ]
  },
  {
   "cell_type": "code",
   "execution_count": 6,
   "id": "75af3ea8",
   "metadata": {},
   "outputs": [
    {
     "name": "stdout",
     "output_type": "stream",
     "text": [
      "Количество чисел:10\n",
      "\n",
      "Массив: 74 39 85 7 32 4 15 79 63 2\n",
      "85 is found\n",
      "84 Not Found\n",
      "--- 0.896200 ms ---\n"
     ]
    }
   ],
   "source": [
    "#Бинарное дерево\n",
    "import random\n",
    "from random import randint\n",
    "import time\n",
    "from random import randrange\n",
    "\n",
    "class Node:\n",
    "\n",
    "    def __init__(self, data):\n",
    "\n",
    "        self.left = None\n",
    "        self.right = None\n",
    "        self.data = data\n",
    "\n",
    "# Метод Insert для создания узлов\n",
    "    def insert(self, data):\n",
    "\n",
    "        if self.data:\n",
    "            if data < self.data:\n",
    "                if self.left is None:\n",
    "                    self.left = Node(data)\n",
    "                else:\n",
    "                    self.left.insert(data)\n",
    "            elif data > self.data:\n",
    "                if self.right is None:\n",
    "                    self.right = Node(data)\n",
    "                else:\n",
    "                    self.right.insert(data)\n",
    "        else:\n",
    "            self.data = data\n",
    "# метод findval для сравнения значения с узлами\n",
    "    def findval(self, lkpval):\n",
    "        if lkpval < self.data:\n",
    "            if self.left is None:\n",
    "                return str(lkpval)+\" Not Found\"\n",
    "            return self.left.findval(lkpval)\n",
    "        elif lkpval > self.data:\n",
    "            if self.right is None:\n",
    "                return str(lkpval)+\" Not Found\"\n",
    "            return self.right.findval(lkpval)\n",
    "        else:\n",
    "            print(str(self.data) + ' is found')\n",
    "# Нарисовать дерева\n",
    "    def PrintTree(self):\n",
    "        if self.left:\n",
    "            self.left.PrintTree()\n",
    "        if self.right:\n",
    "            self.right.PrintTree()\n",
    "\n",
    "n = int(input('Количество чисел:'))\n",
    "a = [randrange(1, 100) for i in range(n)]\n",
    "print('\\nМассив:',*a)\n",
    "start_time = time.perf_counter()\n",
    "root = Node(a[0])\n",
    "for i in range (len(a)-1):\n",
    "    root.insert(a[i+1])\n",
    "    \n",
    "root.findval(a[random.randint(0,len(a)-1)])\n",
    "print(root.findval(random.randint(0,100)))\n",
    "print(\"--- {:.6f} ms ---\".format((time.perf_counter() - start_time) * 1000))"
   ]
  },
  {
   "cell_type": "code",
   "execution_count": 3,
   "id": "abe4b0b4",
   "metadata": {},
   "outputs": [
    {
     "name": "stdout",
     "output_type": "stream",
     "text": [
      "143 339 430 485 504 671 680 828 901 955\n",
      "Index of 504: 5\n",
      "--- 0.346100 ms ---\n"
     ]
    }
   ],
   "source": [
    "#Метод Фибоначчи\n",
    "import random\n",
    "from random import randint\n",
    "import time\n",
    "\n",
    "def FibonacciSearch(lys, val):\n",
    "    fibM_minus_2 = 0\n",
    "    fibM_minus_1 = 1\n",
    "    fibM = fibM_minus_1 + fibM_minus_2\n",
    "    while (fibM < len(lys)):\n",
    "        fibM_minus_2 = fibM_minus_1\n",
    "        fibM_minus_1 = fibM\n",
    "        fibM = fibM_minus_1 + fibM_minus_2\n",
    "    index = -1;\n",
    "    while (fibM > 1):\n",
    "        i = min(index + fibM_minus_2, (len(lys)-1))\n",
    "        if (lys[i] < val):\n",
    "            fibM = fibM_minus_1\n",
    "            fibM_minus_1 = fibM_minus_2\n",
    "            fibM_minus_2 = fibM - fibM_minus_1\n",
    "            index = i\n",
    "        elif (lys[i] > val):\n",
    "            fibM = fibM_minus_2\n",
    "            fibM_minus_1 = fibM_minus_1 - fibM_minus_2\n",
    "            fibM_minus_2 = fibM - fibM_minus_1\n",
    "        else :\n",
    "            return i\n",
    "    if(fibM_minus_1 and index < (len(lys)-1) and lys[index+1] == val):\n",
    "        return index+1;\n",
    "    return -1\n",
    "\n",
    "\n",
    "a=random.sample(range(1000), 10)\n",
    "a.sort()\n",
    "print(*a)\n",
    "c=a[random.randint(0,9)]\n",
    "start_time = time.perf_counter()\n",
    "print(\"Index of {}: {}\".format(c, FibonacciSearch(a, c)+1))\n",
    "print(\"--- {:.6f} ms ---\".format((time.perf_counter() - start_time) * 1000))"
   ]
  },
  {
   "cell_type": "code",
   "execution_count": 8,
   "id": "34ec2894",
   "metadata": {},
   "outputs": [
    {
     "name": "stdout",
     "output_type": "stream",
     "text": [
      "28 133 161 469 478 522 580 715 790 990\n",
      "Index of 161: 3\n",
      "--- 0.322000 ms ---\n"
     ]
    }
   ],
   "source": [
    "#Интерполяционный\n",
    "import random\n",
    "from random import randint\n",
    "import time\n",
    "def InterpolationSearch(lys, val):\n",
    "    low = 0\n",
    "    high = (len(lys) - 1)\n",
    "    while low <= high and val >= lys[low] and val <= lys[high]:\n",
    "        index = low + int(((float(high - low) / ( lys[high] - lys[low])) * ( val - lys[low])))\n",
    "        if lys[index] == val:\n",
    "            return index\n",
    "        if lys[index] < val:\n",
    "            low = index + 1;\n",
    "        else:\n",
    "            high = index - 1;\n",
    "    return -1\n",
    "a=random.sample(range(1000), 10)\n",
    "a.sort()\n",
    "print(*a)\n",
    "c=a[random.randint(0,9)]\n",
    "start_time = time.perf_counter()\n",
    "print(\"Index of {}: {}\".format(c, InterpolationSearch(a, c)+1))\n",
    "print(\"--- {:.6f} ms ---\".format((time.perf_counter() - start_time) * 1000))\n"
   ]
  },
  {
   "cell_type": "markdown",
   "id": "maritime-conversation",
   "metadata": {},
   "source": [
    "### Задание №2\n",
    "Написать соответствующие решения для заданных методов."
   ]
  },
  {
   "cell_type": "code",
   "execution_count": 20,
   "id": "97f9de37",
   "metadata": {},
   "outputs": [
    {
     "name": "stdout",
     "output_type": "stream",
     "text": [
      "[[('Молоко', 58), ('Сыр', 51)],\n",
      " [],\n",
      " [('Гранат', 60)],\n",
      " [('Манго', 76)],\n",
      " [('Мясо', 90), ('Творог', 64)],\n",
      " [('Вишня', 21)],\n",
      " [('Персик', 51)],\n",
      " [],\n",
      " [('Абрикос', 87)],\n",
      " [('Яблоко', 83)]]\n",
      "Цена молока 58\n",
      "--- 0.185600 ms ---\n"
     ]
    }
   ],
   "source": [
    "#Простое рехэширование\n",
    "import pprint\n",
    "class Hashtable:\n",
    "    def __init__(self, elements):\n",
    "        self.bucket_size = len(elements)\n",
    "        self.buckets = [[] for i in range(self.bucket_size)]\n",
    "        self._assign_buckets(elements)\n",
    "    def _assign_buckets(self, elements):\n",
    "        for key, value in elements: #вычисляем хэш каждого ключа\n",
    "            hashed_value = hash(key)\n",
    "            index = hashed_value % self.bucket_size # позиционируем элемент в корзине с помощью хэша\n",
    "            self.buckets[index].append((key, value)) #добавляем кортеж в корзину\n",
    "    def get_value(self, input_key):\n",
    "        hashed_value = hash(input_key)\n",
    "        index = hashed_value % self.bucket_size\n",
    "        bucket = self.buckets[index]\n",
    "        for key, value in bucket:\n",
    "            if key == input_key:\n",
    "                return(value)\n",
    "        return None\n",
    "    def __str__(self):\n",
    "        return pprint.pformat(self.buckets) # формат возвращает печатное представление объекта\n",
    "prices = [ ('Манго', random.randint(0,100)), ('Яблоко', random.randint(0,100)), \n",
    "          ('Персик', random.randint(0,100)), ('Абрикос', random.randint(0,100)),\n",
    "          ('Молоко', random.randint(0,100)), ('Гранат', random.randint(0,100)), \n",
    "          ('Вишня', random.randint(0,100)), ('Сыр', random.randint(0,100)), \n",
    "          ('Мясо', random.randint(0,100)), ('Творог', random.randint(0,100))]\n",
    "\n",
    "hashtable = Hashtable(prices)\n",
    "print(hashtable)\n",
    "start_time = time.perf_counter()\n",
    "print(f\"Цена молока {hashtable.get_value('Молоко')}\")\n",
    "print(\"--- {:.6f} ms ---\".format((time.perf_counter() - start_time) * 1000))"
   ]
  },
  {
   "cell_type": "code",
   "execution_count": 8,
   "id": "b4b80e3a",
   "metadata": {},
   "outputs": [
    {
     "name": "stdout",
     "output_type": "stream",
     "text": [
      "[38, 31, 22, 36, 72, 6, 9, 65, 17, 36]\n",
      "[14, 19, 14, 13, 10, 12, 17, 15, 12, 11, 19, 10, 13, 10, 20]\n",
      "{22: 38, 15: 31, 16: 22, 20: 36, 21: 72, 25: 6, 23: 9, 19: 65, 26: 17, 18: 36}\n"
     ]
    }
   ],
   "source": [
    "#Рехэширование с помощью псевдослучайных чисел\n",
    "import random\n",
    "def gethash(x, n, add):\n",
    "    return x % n + add\n",
    "\n",
    "mas = []\n",
    "n = 10\n",
    "for i in range(n):\n",
    "    mas.append(random.randint(0, 100))\n",
    "mas_hash = []\n",
    "m = 15\n",
    "for i in range(m):\n",
    "    mas_hash.append(random.randint(10, 20))\n",
    "addresses = dict()\n",
    "for num in mas:\n",
    "    address = gethash(num, n, mas_hash[0])\n",
    "    i = 1\n",
    "    while addresses.get(address):\n",
    "        address = gethash(num, n, mas_hash[i])\n",
    "        i += 1\n",
    "    addresses[address] = num\n",
    "print(mas)\n",
    "print(mas_hash)\n",
    "print(addresses)"
   ]
  },
  {
   "cell_type": "code",
   "execution_count": 9,
   "id": "1addc092",
   "metadata": {},
   "outputs": [
    {
     "name": "stdout",
     "output_type": "stream",
     "text": [
      "[39, 54, 90, 91, 54, 27, 66, 92, 97, 23]\n",
      "{109: [39], 104: [54, 54], 100: [90], 101: [91], 107: [27, 97], 106: [66], 102: [92], 103: [23]}\n"
     ]
    }
   ],
   "source": [
    "#Метод цепочек\n",
    "import random\n",
    "def gethash(x, n):\n",
    "    return 100 + x % n\n",
    "mas = []\n",
    "n = 10\n",
    "for i in range(n):\n",
    "    mas.append(random.randint(0, 100))\n",
    "print(mas)\n",
    "addresses = dict()\n",
    "for num in mas:\n",
    "    address = gethash(num, n)\n",
    "    if addresses.get(address):\n",
    "        addresses[address].append(num)\n",
    "    else:\n",
    "        addresses[address] = [num]\n",
    "print(addresses)"
   ]
  },
  {
   "cell_type": "markdown",
   "id": "catholic-roots",
   "metadata": {},
   "source": [
    "### Задание №3\n",
    "Расставить на стандартной 64-клеточной шахматной доске 8 ферзей так, чтобы ни один из них не находился под боем другого». Подразумевается, что ферзь бьёт все клетки, расположенные по вертикалям, горизонталям и обеим диагоналям\n",
    "Написать программу,  которая находит хотя бы один способ решения задач.\n"
   ]
  },
  {
   "cell_type": "code",
   "execution_count": 21,
   "id": "09de30c9",
   "metadata": {},
   "outputs": [
    {
     "name": "stdout",
     "output_type": "stream",
     "text": [
      "[[6, 4], [5, 1], [7, 8], [4, 3], [2, 2], [8, 5], [1, 7], [3, 6]]\n"
     ]
    }
   ],
   "source": [
    "import random as r\n",
    "ferzi = []\n",
    "while len(ferzi) < 8:\n",
    "    ferzi = []\n",
    "    doskat = [[i, j] for i in range(1,9) for j in range(1,9)]\n",
    "    for _ in range(8):\n",
    "        t = r.randint(0,len(doskat)-1)\n",
    "        ferzi.append(doskat.pop(t))\n",
    "        rm = []\n",
    "        for i, e in enumerate(doskat):\n",
    "            if e[0] == ferzi[-1][0]:\n",
    "                rm.append(i)\n",
    "                continue\n",
    "            if e[1] == ferzi[-1][1]:\n",
    "                rm.append(i)\n",
    "                continue\n",
    "            if (e[0] + e[1]) == (ferzi[-1][0] + ferzi[-1][1]):\n",
    "                rm.append(i)\n",
    "                continue\n",
    "            if (e[0] - e[1]) == (ferzi[-1][0] - ferzi[-1][1]):\n",
    "                rm.append(i)\n",
    "        k = 0\n",
    "        for i in rm:\n",
    "            doskat.pop(i - k)\n",
    "            k += 1\n",
    "        if len(doskat) == 0:\n",
    "            break\n",
    "print(ferzi)"
   ]
  }
 ],
 "metadata": {
  "kernelspec": {
   "display_name": "Python 3 (ipykernel)",
   "language": "python",
   "name": "python3"
  },
  "language_info": {
   "codemirror_mode": {
    "name": "ipython",
    "version": 3
   },
   "file_extension": ".py",
   "mimetype": "text/x-python",
   "name": "python",
   "nbconvert_exporter": "python",
   "pygments_lexer": "ipython3",
   "version": "3.9.7"
  }
 },
 "nbformat": 4,
 "nbformat_minor": 5
}
