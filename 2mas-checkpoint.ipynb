{
 "cells": [
  {
   "cell_type": "code",
   "execution_count": 1,
   "id": "4b258166",
   "metadata": {},
   "outputs": [
    {
     "name": "stdout",
     "output_type": "stream",
     "text": [
      "5\n",
      "12 12 12 12 12 12\n",
      "4 5 4 5 4 5\n",
      "76 32 56 32 65 32\n",
      "0 0 0 0 0 0\n",
      "9 9 9 9 9 9\n",
      "0 12 12 12 12 12\n",
      "4 5 4 5 4 5\n",
      "76 32 9 32 65 32\n",
      "0 0 0 12 0 0\n",
      "9 9 9 9 56 9\n"
     ]
    }
   ],
   "source": [
    "# в первой строке ввода идёт количество строк массива\n",
    "n = int(input()) \n",
    "a = [[int(j) for j in input().split()] for i in range(n)]\n",
    "for i in range(n-1):\n",
    "    for j in range(n-i-1):\n",
    "        if a[j][j] > a[j+1][j+1]:\n",
    "            a[j][j], a[j+1][j+1] = a[j+1][j+1], a[j][j]\n",
    "for row in a:\n",
    "    print(' '.join([str(elem) for elem in row]))"
   ]
  },
  {
   "cell_type": "code",
   "execution_count": null,
   "id": "a89978fd",
   "metadata": {},
   "outputs": [],
   "source": []
  }
 ],
 "metadata": {
  "kernelspec": {
   "display_name": "Python 3 (ipykernel)",
   "language": "python",
   "name": "python3"
  },
  "language_info": {
   "codemirror_mode": {
    "name": "ipython",
    "version": 3
   },
   "file_extension": ".py",
   "mimetype": "text/x-python",
   "name": "python",
   "nbconvert_exporter": "python",
   "pygments_lexer": "ipython3",
   "version": "3.9.7"
  }
 },
 "nbformat": 4,
 "nbformat_minor": 5
}
