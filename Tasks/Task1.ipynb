{
 "cells": [
  {
   "cell_type": "markdown",
   "id": "244314fb",
   "metadata": {},
   "source": [
    "# Задание 1"
   ]
  },
  {
   "cell_type": "markdown",
   "id": "64630386",
   "metadata": {},
   "source": [
    "Массив A состоит из целых положительных чисел ­ длин отрезков. Составьте из трех отрезков такой треугольник, чтобы его периметр был максимально возможным. Если невозможно составить треугольник с положительной площадью ­ функция возвращает 0.\n"
   ]
  },
  {
   "cell_type": "markdown",
   "id": "55442a49",
   "metadata": {},
   "source": [
    "### Исполняемый код записать в ячейку ниже:"
   ]
  },
  {
   "cell_type": "code",
   "execution_count": 1,
   "id": "3b0d440a",
   "metadata": {},
   "outputs": [
    {
     "name": "stdout",
     "output_type": "stream",
     "text": [
      "Введите количество элементов массива \n",
      "10\n",
      "1\n",
      "24\n",
      "54\n",
      "75\n",
      "2\n",
      "54\n",
      "65\n",
      "87\n",
      "23\n",
      "0\n",
      "Стороны треугольника:  87 75 65 "
     ]
    }
   ],
   "source": [
    "def Triangle(a, b, c):\n",
    "    return a + b > c and a + c > b and b + c > a\n",
    "\n",
    "print(\"Введите количество элементов массива \")\n",
    "d = int(input())\n",
    "M = [0] * d\n",
    "for i in range(d):\n",
    "    M[i] = int(input())\n",
    "M.sort(reverse= True)\n",
    "\n",
    "for i in range(d):\n",
    "    if Triangle(M[i], M[i+1], M[i+2]):\n",
    "        print(\"Стороны треугольника: \", M[i], M[i+1], M[i+2], end = \" \")\n",
    "        break\n"
   ]
  },
  {
   "cell_type": "markdown",
   "id": "b3a969a6",
   "metadata": {},
   "source": [
    "# Задание 2"
   ]
  },
  {
   "cell_type": "markdown",
   "id": "9c1ce05d",
   "metadata": {},
   "source": [
    "Дан массив неотрицательных целых чисел nums. Расположите их в таком порядке, чтобы вместе они образовали максимально возможное число. Замечание: Результат может быть очень большим числом, поэтому представьте его как string, а не integer."
   ]
  },
  {
   "cell_type": "markdown",
   "id": "12ef9771",
   "metadata": {},
   "source": [
    "## Исполняемый код записывать в ячейку ниже"
   ]
  },
  {
   "cell_type": "code",
   "execution_count": 6,
   "id": "3f06c4fc",
   "metadata": {},
   "outputs": [
    {
     "name": "stdout",
     "output_type": "stream",
     "text": [
      "Введите количество элементов массива \n",
      "5\n",
      "99\n",
      "98\n",
      "909\n",
      "89\n",
      "898\n",
      "999890989889\n"
     ]
    }
   ],
   "source": [
    "class Comparator(str):\n",
    "    def __eq__(self, other):\n",
    "        return int(other+self) > int(self+other)\n",
    "    \n",
    "def get_more_num(nums, i = 0):\n",
    "    nums = [str(i) for i in nums]\n",
    "    nums.sort(reverse=True,key=Comparator)\n",
    "    print(''.join(nums))\n",
    "print(\"Введите количество элементов массива \")\n",
    "d = int(input())\n",
    "M = [0] * d\n",
    "for i in range(d):\n",
    "    M[i] = int(input())\n",
    "get_more_num(M)"
   ]
  },
  {
   "cell_type": "markdown",
   "id": "5f54b630",
   "metadata": {},
   "source": [
    "# Задание 3"
   ]
  },
  {
   "cell_type": "markdown",
   "id": "566f1d3b",
   "metadata": {},
   "source": [
    "Дана матрица mat размером m * n, значения ­ целочисленные. Напишите функцию, сортирующую каждую диагональ матрицы по возрастанию и возвращающую получившуюся матрицу."
   ]
  },
  {
   "cell_type": "markdown",
   "id": "fcd91349",
   "metadata": {},
   "source": [
    "## Исполняемый код записывать в ячейку ниже"
   ]
  },
  {
   "cell_type": "code",
   "execution_count": 4,
   "id": "be07379d",
   "metadata": {},
   "outputs": [
    {
     "name": "stdout",
     "output_type": "stream",
     "text": [
      "5\n",
      "84 36 29 40 93\n",
      "37 69 68 85 90\n",
      "78 45 25 97 46\n",
      "57 23 90 56 34\n",
      "35 86 86 24 98\n",
      "Итоговый массив:\n",
      "25 36 29 40 93\n",
      "37 56 68 85 90\n",
      "78 45 69 97 46\n",
      "57 23 90 84 34\n",
      "35 86 86 24 98\n"
     ]
    }
   ],
   "source": [
    "n = int(input()) \n",
    "a = [[int(j) for j in input().split()] for i in range(n)]\n",
    "for i in range(n-1):\n",
    "    for j in range(n-i-1):\n",
    "        if a[j][j] > a[j+1][j+1]:\n",
    "            a[j][j], a[j+1][j+1] = a[j+1][j+1], a[j][j]\n",
    "print('Итоговый массив:')\n",
    "for row in a:\n",
    "    print(' '.join([str(elem) for elem in row]))"
   ]
  }
 ],
 "metadata": {
  "kernelspec": {
   "display_name": "Python 3 (ipykernel)",
   "language": "python",
   "name": "python3"
  },
  "language_info": {
   "codemirror_mode": {
    "name": "ipython",
    "version": 3
   },
   "file_extension": ".py",
   "mimetype": "text/x-python",
   "name": "python",
   "nbconvert_exporter": "python",
   "pygments_lexer": "ipython3",
   "version": "3.9.7"
  }
 },
 "nbformat": 4,
 "nbformat_minor": 5
}
