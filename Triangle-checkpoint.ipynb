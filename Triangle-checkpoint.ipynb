{
 "cells": [
  {
   "cell_type": "code",
   "execution_count": 1,
   "id": "1ab8a829",
   "metadata": {},
   "outputs": [
    {
     "name": "stdout",
     "output_type": "stream",
     "text": [
      "Введите количество элементов массива \n",
      "10\n",
      "23\n",
      "54\n",
      "64\n",
      "86\n",
      "24\n",
      "87\n",
      "43\n",
      "98\n",
      "9\n",
      "8\n",
      "Стороны треугольника:  98 87 86 "
     ]
    }
   ],
   "source": [
    "def Triangle(a, b, c):\n",
    "    return a + b > c and a + c > b and b + c > a\n",
    "\n",
    "print(\"Введите количество элементов массива \")\n",
    "d = int(input())\n",
    "M = [0] * d\n",
    "for i in range(d):\n",
    "    M[i] = int(input())\n",
    "M.sort(reverse= True)\n",
    "\n",
    "for i in range(d):\n",
    "    if Triangle(M[i], M[i+1], M[i+2]):\n",
    "        print(\"Стороны треугольника: \", M[i], M[i+1], M[i+2], end = \" \")\n",
    "        break\n",
    "\n"
   ]
  },
  {
   "cell_type": "code",
   "execution_count": 6,
   "id": "2db4922d",
   "metadata": {},
   "outputs": [
    {
     "data": {
      "text/plain": [
       "5"
      ]
     },
     "execution_count": 6,
     "metadata": {},
     "output_type": "execute_result"
    }
   ],
   "source": [
    "5"
   ]
  },
  {
   "cell_type": "code",
   "execution_count": 7,
   "id": "dd2f42b7",
   "metadata": {},
   "outputs": [
    {
     "data": {
      "text/plain": [
       "5"
      ]
     },
     "execution_count": 7,
     "metadata": {},
     "output_type": "execute_result"
    }
   ],
   "source": [
    "5\n",
    "1\n",
    "2\n",
    "3\n",
    "4\n",
    "5\n"
   ]
  },
  {
   "cell_type": "code",
   "execution_count": null,
   "id": "33bef821",
   "metadata": {},
   "outputs": [],
   "source": [
    "10\n"
   ]
  },
  {
   "cell_type": "code",
   "execution_count": null,
   "id": "046fa520",
   "metadata": {},
   "outputs": [],
   "source": []
  },
  {
   "cell_type": "code",
   "execution_count": null,
   "id": "315bf3ba",
   "metadata": {},
   "outputs": [],
   "source": [
    "5\n",
    "1\n",
    "2\n",
    "3\n",
    "4\n",
    "5"
   ]
  }
 ],
 "metadata": {
  "kernelspec": {
   "display_name": "Python 3 (ipykernel)",
   "language": "python",
   "name": "python3"
  },
  "language_info": {
   "codemirror_mode": {
    "name": "ipython",
    "version": 3
   },
   "file_extension": ".py",
   "mimetype": "text/x-python",
   "name": "python",
   "nbconvert_exporter": "python",
   "pygments_lexer": "ipython3",
   "version": "3.9.7"
  }
 },
 "nbformat": 4,
 "nbformat_minor": 5
}
