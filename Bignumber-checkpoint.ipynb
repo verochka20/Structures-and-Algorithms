{
 "cells": [
  {
   "cell_type": "code",
   "execution_count": 1,
   "id": "9832277c",
   "metadata": {},
   "outputs": [
    {
     "name": "stdout",
     "output_type": "stream",
     "text": [
      "Введите количество элементов массива \n",
      "15\n",
      "99\n",
      "88\n",
      "77\n",
      "66\n",
      "55\n",
      "4\n",
      "3\n",
      "2\n",
      "1\n",
      "0\n",
      "567\n",
      "654\n",
      "3\n",
      "765\n",
      "12\n",
      "998877765666545675543321210\n"
     ]
    }
   ],
   "source": [
    "def Bignumber(a, b):\n",
    "    d=1\n",
    "    if (int(a[0])>int(b[0])):\n",
    "        return True\n",
    "    if int(a[0])==int(b[0]):\n",
    "        for i in range(1, max(len(a), len(b))):\n",
    "            if((len(a))<=i):\n",
    "                d=0\n",
    "                if (b[i]>b[i-1]):\n",
    "                    return False\n",
    "            if((len(b))<=i):\n",
    "                d=0\n",
    "                if (a[i]>a[i-1]):\n",
    "                    return False\n",
    "            if d:\n",
    "                if((a[i]>b[i])): return True\n",
    "                else: return False \n",
    "            else: return False \n",
    "    return False            \n",
    "                \n",
    "\n",
    "print(\"Введите количество элементов массива \")\n",
    "d = int(input())\n",
    "a = [0] * d\n",
    "for i in range(d):\n",
    "    a[i] = str(input())\n",
    "\n",
    "for i in range(d-1):\n",
    "    for j in range(d-i-1):\n",
    "        if Bignumber(a[j], a[j+1]):\n",
    "            a[j], a[j+1] = a[j+1], a[j]\n",
    "f=''\n",
    "for i in range(d):\n",
    "    f+=a[d-1-i]\n",
    "print(f)"
   ]
  },
  {
   "cell_type": "code",
   "execution_count": null,
   "id": "b5375404",
   "metadata": {},
   "outputs": [],
   "source": []
  }
 ],
 "metadata": {
  "kernelspec": {
   "display_name": "Python 3 (ipykernel)",
   "language": "python",
   "name": "python3"
  },
  "language_info": {
   "codemirror_mode": {
    "name": "ipython",
    "version": 3
   },
   "file_extension": ".py",
   "mimetype": "text/x-python",
   "name": "python",
   "nbconvert_exporter": "python",
   "pygments_lexer": "ipython3",
   "version": "3.9.7"
  }
 },
 "nbformat": 4,
 "nbformat_minor": 5
}
